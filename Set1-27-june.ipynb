{
 "cells": [
  {
   "cell_type": "code",
   "execution_count": 1,
   "id": "78fdb993-9e01-45e1-ba3e-3fe273296b9b",
   "metadata": {},
   "outputs": [
    {
     "data": {
      "text/plain": [
       "{}"
      ]
     },
     "execution_count": 1,
     "metadata": {},
     "output_type": "execute_result"
    }
   ],
   "source": [
    "# set creation\n",
    "s={}\n",
    "s"
   ]
  },
  {
   "cell_type": "code",
   "execution_count": 2,
   "id": "7e0c005d-d32d-4510-a02f-391277fd9008",
   "metadata": {},
   "outputs": [
    {
     "data": {
      "text/plain": [
       "dict"
      ]
     },
     "execution_count": 2,
     "metadata": {},
     "output_type": "execute_result"
    }
   ],
   "source": [
    "type(s)"
   ]
  },
  {
   "cell_type": "code",
   "execution_count": 3,
   "id": "a9265e32-0102-4d2b-9e02-e052db2db82f",
   "metadata": {},
   "outputs": [
    {
     "data": {
      "text/plain": [
       "set()"
      ]
     },
     "execution_count": 3,
     "metadata": {},
     "output_type": "execute_result"
    }
   ],
   "source": [
    "set(s)"
   ]
  },
  {
   "cell_type": "code",
   "execution_count": 4,
   "id": "ec327a43-78d8-4b98-ab29-c58f37004ada",
   "metadata": {},
   "outputs": [
    {
     "data": {
      "text/plain": [
       "{10, 20, 30, 40, 50}"
      ]
     },
     "execution_count": 4,
     "metadata": {},
     "output_type": "execute_result"
    }
   ],
   "source": [
    "s={10,20,30,40,50}\n",
    "s"
   ]
  },
  {
   "cell_type": "code",
   "execution_count": 8,
   "id": "6dd0770c-8087-4513-8e3c-db4d8b1746b8",
   "metadata": {},
   "outputs": [
    {
     "ename": "TypeError",
     "evalue": "'set' object is not subscriptable",
     "output_type": "error",
     "traceback": [
      "\u001b[1;31m---------------------------------------------------------------------------\u001b[0m",
      "\u001b[1;31mTypeError\u001b[0m                                 Traceback (most recent call last)",
      "Cell \u001b[1;32mIn[8], line 1\u001b[0m\n\u001b[1;32m----> 1\u001b[0m s[:]\n",
      "\u001b[1;31mTypeError\u001b[0m: 'set' object is not subscriptable"
     ]
    }
   ],
   "source": [
    "s[:]\n"
   ]
  },
  {
   "cell_type": "code",
   "execution_count": 9,
   "id": "36a3a950-4376-4384-9c50-323ab5594225",
   "metadata": {},
   "outputs": [
    {
     "ename": "TypeError",
     "evalue": "'set' object is not subscriptable",
     "output_type": "error",
     "traceback": [
      "\u001b[1;31m---------------------------------------------------------------------------\u001b[0m",
      "\u001b[1;31mTypeError\u001b[0m                                 Traceback (most recent call last)",
      "Cell \u001b[1;32mIn[9], line 1\u001b[0m\n\u001b[1;32m----> 1\u001b[0m s[\u001b[38;5;241m0\u001b[39m]\n",
      "\u001b[1;31mTypeError\u001b[0m: 'set' object is not subscriptable"
     ]
    }
   ],
   "source": [
    "s[0]"
   ]
  },
  {
   "cell_type": "code",
   "execution_count": 60,
   "id": "ab6279c4-89ee-4412-b53f-8c5d167b72d2",
   "metadata": {},
   "outputs": [
    {
     "ename": "TypeError",
     "evalue": "unhashable type: 'list'",
     "output_type": "error",
     "traceback": [
      "\u001b[1;31m---------------------------------------------------------------------------\u001b[0m",
      "\u001b[1;31mTypeError\u001b[0m                                 Traceback (most recent call last)",
      "Cell \u001b[1;32mIn[60], line 1\u001b[0m\n\u001b[1;32m----> 1\u001b[0m s\u001b[38;5;241m=\u001b[39m{[\u001b[38;5;241m2\u001b[39m,\u001b[38;5;241m40\u001b[39m,\u001b[38;5;241m60\u001b[39m,\u001b[38;5;241m50\u001b[39m]}\n\u001b[0;32m      2\u001b[0m s\n",
      "\u001b[1;31mTypeError\u001b[0m: unhashable type: 'list'"
     ]
    }
   ],
   "source": [
    "s={[2,40,60,50]}\n",
    "s"
   ]
  },
  {
   "cell_type": "code",
   "execution_count": 13,
   "id": "41f44d18-ed6e-4a69-8638-c9c664e996e9",
   "metadata": {},
   "outputs": [
    {
     "ename": "TypeError",
     "evalue": "set.add() takes exactly one argument (2 given)",
     "output_type": "error",
     "traceback": [
      "\u001b[1;31m---------------------------------------------------------------------------\u001b[0m",
      "\u001b[1;31mTypeError\u001b[0m                                 Traceback (most recent call last)",
      "Cell \u001b[1;32mIn[13], line 1\u001b[0m\n\u001b[1;32m----> 1\u001b[0m s\u001b[38;5;241m.\u001b[39madd(\u001b[38;5;241m100\u001b[39m,\u001b[38;5;241m1000\u001b[39m)\n\u001b[0;32m      2\u001b[0m s\n",
      "\u001b[1;31mTypeError\u001b[0m: set.add() takes exactly one argument (2 given)"
     ]
    }
   ],
   "source": [
    "s.add(100,1000)\n",
    "s"
   ]
  },
  {
   "cell_type": "code",
   "execution_count": null,
   "id": "22518cb0-029d-42a6-afe5-9764d552670a",
   "metadata": {},
   "outputs": [],
   "source": []
  },
  {
   "cell_type": "code",
   "execution_count": 12,
   "id": "77377540-9a19-4d65-94c4-f91ab345ede6",
   "metadata": {},
   "outputs": [
    {
     "data": {
      "text/plain": [
       "{10, 20, 30, 40, 50, 100}"
      ]
     },
     "execution_count": 12,
     "metadata": {},
     "output_type": "execute_result"
    }
   ],
   "source": [
    "s.add(100)\n",
    "s"
   ]
  },
  {
   "cell_type": "code",
   "execution_count": 17,
   "id": "18e6600b-de03-4739-8a7a-3e0ce9fd9899",
   "metadata": {},
   "outputs": [
    {
     "data": {
      "text/plain": [
       "set()"
      ]
     },
     "execution_count": 17,
     "metadata": {},
     "output_type": "execute_result"
    }
   ],
   "source": [
    "s1=set()\n",
    "s1"
   ]
  },
  {
   "cell_type": "code",
   "execution_count": 18,
   "id": "860063bc-9843-4331-bb46-4e8d6b57f947",
   "metadata": {},
   "outputs": [
    {
     "data": {
      "text/plain": [
       "{10, 20, 30, 40, 50}"
      ]
     },
     "execution_count": 18,
     "metadata": {},
     "output_type": "execute_result"
    }
   ],
   "source": [
    "s1.add(10)\n",
    "s1.add(20)\n",
    "s1.add(30)\n",
    "s1.add(40)\n",
    "s1.add(50)\n",
    "s1"
   ]
  },
  {
   "cell_type": "code",
   "execution_count": 19,
   "id": "31d4c9bf-9d9d-4c0d-a28a-7cf0b5501e7f",
   "metadata": {},
   "outputs": [
    {
     "data": {
      "text/plain": [
       "40"
      ]
     },
     "execution_count": 19,
     "metadata": {},
     "output_type": "execute_result"
    }
   ],
   "source": [
    "s1.pop()"
   ]
  },
  {
   "cell_type": "code",
   "execution_count": 22,
   "id": "9499d5b3-2e94-4323-ac0e-db13b4c44f2d",
   "metadata": {},
   "outputs": [
    {
     "data": {
      "text/plain": [
       "{20, 30, 50}"
      ]
     },
     "execution_count": 22,
     "metadata": {},
     "output_type": "execute_result"
    }
   ],
   "source": [
    "s1"
   ]
  },
  {
   "cell_type": "code",
   "execution_count": 25,
   "id": "59ae9dd5-a209-4ab6-a584-86a5d5179572",
   "metadata": {},
   "outputs": [
    {
     "data": {
      "text/plain": [
       "{50}"
      ]
     },
     "execution_count": 25,
     "metadata": {},
     "output_type": "execute_result"
    }
   ],
   "source": [
    "s1.remove(20)\n",
    "s1"
   ]
  },
  {
   "cell_type": "code",
   "execution_count": 28,
   "id": "95656cf8-4e2b-4728-9c93-c0a2b06e8b8a",
   "metadata": {},
   "outputs": [
    {
     "data": {
      "text/plain": [
       "{50}"
      ]
     },
     "execution_count": 28,
     "metadata": {},
     "output_type": "execute_result"
    }
   ],
   "source": [
    "s1.discard(100)\n",
    "s1"
   ]
  },
  {
   "cell_type": "code",
   "execution_count": 29,
   "id": "9b039d17-eb32-47e5-b7e6-01326016d48e",
   "metadata": {},
   "outputs": [
    {
     "data": {
      "text/plain": [
       "set()"
      ]
     },
     "execution_count": 29,
     "metadata": {},
     "output_type": "execute_result"
    }
   ],
   "source": [
    "s1.discard(50)\n",
    "s1"
   ]
  },
  {
   "cell_type": "code",
   "execution_count": 30,
   "id": "a0faa464-4cfe-45e6-87fb-c61acfa9e586",
   "metadata": {},
   "outputs": [
    {
     "data": {
      "text/plain": [
       "set()"
      ]
     },
     "execution_count": 30,
     "metadata": {},
     "output_type": "execute_result"
    }
   ],
   "source": [
    "s1"
   ]
  },
  {
   "cell_type": "code",
   "execution_count": 31,
   "id": "3f0d53a0-2606-43d9-96c0-1aeb326ee2f4",
   "metadata": {},
   "outputs": [
    {
     "data": {
      "text/plain": [
       "{10, 20, 30, 40, 50}"
      ]
     },
     "execution_count": 31,
     "metadata": {},
     "output_type": "execute_result"
    }
   ],
   "source": [
    "s"
   ]
  },
  {
   "cell_type": "code",
   "execution_count": 32,
   "id": "2460dcd6-5658-44b4-b816-72e7425f9cc7",
   "metadata": {},
   "outputs": [
    {
     "data": {
      "text/plain": [
       "set()"
      ]
     },
     "execution_count": 32,
     "metadata": {},
     "output_type": "execute_result"
    }
   ],
   "source": [
    "s.clear()\n",
    "s"
   ]
  },
  {
   "cell_type": "code",
   "execution_count": 61,
   "id": "379f3c4b-8c9a-4c6e-a5ca-77836fcd32f8",
   "metadata": {},
   "outputs": [
    {
     "data": {
      "text/plain": [
       "{(1+2j), 10, 2.5, True, 'nit'}"
      ]
     },
     "execution_count": 61,
     "metadata": {},
     "output_type": "execute_result"
    }
   ],
   "source": [
    "s3={10, 2.5, True, 'nit', 1+2j}\n",
    "s3"
   ]
  },
  {
   "cell_type": "code",
   "execution_count": null,
   "id": "24543fd8-c042-433f-9bec-774c66b4f965",
   "metadata": {},
   "outputs": [],
   "source": []
  },
  {
   "cell_type": "markdown",
   "id": "36527af7-550e-447b-844f-10ad1237b3ee",
   "metadata": {},
   "source": [
    "### Set Operation"
   ]
  },
  {
   "cell_type": "code",
   "execution_count": 39,
   "id": "36af1a58-cae9-4794-a5a1-90bc7242194c",
   "metadata": {},
   "outputs": [],
   "source": [
    "a={12,35,29,67,12}\n",
    "b={12,55,67,78}\n",
    "c={10,30,78,12}"
   ]
  },
  {
   "cell_type": "code",
   "execution_count": 40,
   "id": "06d84f46-4069-4901-b24a-c87e2863b834",
   "metadata": {},
   "outputs": [
    {
     "data": {
      "text/plain": [
       "{10, 12, 29, 30, 35, 67, 78}"
      ]
     },
     "execution_count": 40,
     "metadata": {},
     "output_type": "execute_result"
    }
   ],
   "source": [
    "#using union operation we can unoin 2 or more set \n",
    "a | c   "
   ]
  },
  {
   "cell_type": "code",
   "execution_count": 41,
   "id": "1173b139-1931-419c-b2f3-bfbcce20a477",
   "metadata": {},
   "outputs": [
    {
     "data": {
      "text/plain": [
       "{10, 12, 29, 30, 35, 55, 67, 78}"
      ]
     },
     "execution_count": 41,
     "metadata": {},
     "output_type": "execute_result"
    }
   ],
   "source": [
    "a | b | c"
   ]
  },
  {
   "cell_type": "code",
   "execution_count": 42,
   "id": "ba20a23a-63c3-44c6-867f-39607c06178c",
   "metadata": {},
   "outputs": [
    {
     "data": {
      "text/plain": [
       "{10, 12, 30, 55, 67, 78}"
      ]
     },
     "execution_count": 42,
     "metadata": {},
     "output_type": "execute_result"
    }
   ],
   "source": [
    "b | c"
   ]
  },
  {
   "cell_type": "code",
   "execution_count": 43,
   "id": "7ccb2745-ea13-407a-9ec8-84220aa82e5e",
   "metadata": {},
   "outputs": [
    {
     "data": {
      "text/plain": [
       "{29, 35}"
      ]
     },
     "execution_count": 43,
     "metadata": {},
     "output_type": "execute_result"
    }
   ],
   "source": [
    "# using difference operstion--remove those value of b set which are same in set a\n",
    "a.difference(b)"
   ]
  },
  {
   "cell_type": "code",
   "execution_count": 45,
   "id": "d1420fd4-edf0-4874-8eed-9ae6997dab5d",
   "metadata": {},
   "outputs": [
    {
     "data": {
      "text/plain": [
       "{29, 35, 67}"
      ]
     },
     "execution_count": 45,
     "metadata": {},
     "output_type": "execute_result"
    }
   ],
   "source": [
    "a.difference(c)"
   ]
  },
  {
   "cell_type": "code",
   "execution_count": 47,
   "id": "edbca854-ebb7-4ffc-95bd-5e0afa4e53ec",
   "metadata": {},
   "outputs": [
    {
     "data": {
      "text/plain": [
       "{55, 78}"
      ]
     },
     "execution_count": 47,
     "metadata": {},
     "output_type": "execute_result"
    }
   ],
   "source": [
    "b.difference(a)"
   ]
  },
  {
   "cell_type": "code",
   "execution_count": 48,
   "id": "3d8ee10b-9912-4e25-8b2f-3df3599b5762",
   "metadata": {},
   "outputs": [
    {
     "data": {
      "text/plain": [
       "{55, 67}"
      ]
     },
     "execution_count": 48,
     "metadata": {},
     "output_type": "execute_result"
    }
   ],
   "source": [
    "b.difference(c)"
   ]
  },
  {
   "cell_type": "code",
   "execution_count": 49,
   "id": "af7cdfd9-bfd5-4508-bbc7-f359f2fa328a",
   "metadata": {},
   "outputs": [
    {
     "data": {
      "text/plain": [
       "{10, 30, 78}"
      ]
     },
     "execution_count": 49,
     "metadata": {},
     "output_type": "execute_result"
    }
   ],
   "source": [
    "c.difference(a)"
   ]
  },
  {
   "cell_type": "code",
   "execution_count": 51,
   "id": "7e938fdc-3a4d-49fc-ae54-aa2606f2e370",
   "metadata": {},
   "outputs": [
    {
     "name": "stdout",
     "output_type": "stream",
     "text": [
      "35\n",
      "67\n",
      "12\n",
      "29\n"
     ]
    }
   ],
   "source": [
    "for i in a:\n",
    "   print(i)"
   ]
  },
  {
   "cell_type": "code",
   "execution_count": 55,
   "id": "9259726e-b23a-46be-8053-8a628d817277",
   "metadata": {},
   "outputs": [
    {
     "name": "stdout",
     "output_type": "stream",
     "text": [
      "(0, 35)\n",
      "(1, 67)\n",
      "(2, 12)\n",
      "(3, 29)\n"
     ]
    }
   ],
   "source": [
    "for i in enumerate (a):\n",
    "   print(i)"
   ]
  },
  {
   "cell_type": "code",
   "execution_count": null,
   "id": "e3ede10d-ac03-4529-b303-a0b100c8fbec",
   "metadata": {},
   "outputs": [],
   "source": []
  },
  {
   "cell_type": "code",
   "execution_count": 8,
   "id": "ea86713a-055c-41f5-808a-8950a94a34bd",
   "metadata": {},
   "outputs": [
    {
     "name": "stdout",
     "output_type": "stream",
     "text": [
      "{1, 2, 3, 4, 5}\n",
      "{4, 5, 6, 7, 8}\n",
      "{8, 9, 10}\n"
     ]
    }
   ],
   "source": [
    "a={1,2,3,4,5}\n",
    "b={4,5,6,7,8}\n",
    "c={8,9,10}\n",
    "print(a)\n",
    "print(b)\n",
    "print(c)"
   ]
  },
  {
   "cell_type": "code",
   "execution_count": 9,
   "id": "7f6fed5b-f9ae-4e95-b422-460c193f0fd8",
   "metadata": {},
   "outputs": [
    {
     "data": {
      "text/plain": [
       "{1, 2, 3, 6, 7, 8}"
      ]
     },
     "execution_count": 9,
     "metadata": {},
     "output_type": "execute_result"
    }
   ],
   "source": [
    "a.symmetric_difference(b)"
   ]
  },
  {
   "cell_type": "code",
   "execution_count": 10,
   "id": "9ce48e8f-78d1-4f54-b0f8-fa0a88c88b51",
   "metadata": {},
   "outputs": [
    {
     "data": {
      "text/plain": [
       "{8, 9, 10}"
      ]
     },
     "execution_count": 10,
     "metadata": {},
     "output_type": "execute_result"
    }
   ],
   "source": [
    "c-a"
   ]
  },
  {
   "cell_type": "code",
   "execution_count": 11,
   "id": "2100faad-97cc-400f-8957-721ebd35bb9d",
   "metadata": {},
   "outputs": [
    {
     "data": {
      "text/plain": [
       "{1, 2, 3, 6, 7, 8}"
      ]
     },
     "execution_count": 11,
     "metadata": {},
     "output_type": "execute_result"
    }
   ],
   "source": [
    "a^b  "
   ]
  },
  {
   "cell_type": "code",
   "execution_count": 12,
   "id": "18243855-b8be-46e0-93d4-2270a52079e6",
   "metadata": {},
   "outputs": [
    {
     "name": "stdout",
     "output_type": "stream",
     "text": [
      "{1, 2, 3, 4, 5}\n",
      "{4, 5, 6, 7, 8}\n",
      "{8, 9, 10}\n"
     ]
    }
   ],
   "source": [
    "print(a)\n",
    "print(b)\n",
    "print(c)"
   ]
  },
  {
   "cell_type": "code",
   "execution_count": 19,
   "id": "914f5423-0c09-45f3-b90f-fb804503a76f",
   "metadata": {},
   "outputs": [
    {
     "data": {
      "text/plain": [
       "{1, 2, 3, 6, 7, 8}"
      ]
     },
     "execution_count": 19,
     "metadata": {},
     "output_type": "execute_result"
    }
   ],
   "source": [
    "a.symmetric_difference_update(b)\n",
    "a"
   ]
  },
  {
   "cell_type": "code",
   "execution_count": 20,
   "id": "bffb15f3-9384-4b9f-b3c7-7d5235cc224e",
   "metadata": {},
   "outputs": [
    {
     "data": {
      "text/plain": [
       "{6, 7, 8}"
      ]
     },
     "execution_count": 20,
     "metadata": {},
     "output_type": "execute_result"
    }
   ],
   "source": [
    "a.intersection(b)"
   ]
  },
  {
   "cell_type": "code",
   "execution_count": 22,
   "id": "ca90070c-6ebf-4949-91cf-a5ce9b3255b4",
   "metadata": {},
   "outputs": [
    {
     "name": "stdout",
     "output_type": "stream",
     "text": [
      "{1, 2, 3, 7, 6, 8}\n",
      "{4, 5, 6, 7, 8}\n",
      "{8, 9, 10}\n"
     ]
    }
   ],
   "source": [
    "print(a)\n",
    "print(b)\n",
    "print(c)"
   ]
  },
  {
   "cell_type": "code",
   "execution_count": 23,
   "id": "a1267f03-4c1d-4875-9f08-ad99d8f36c03",
   "metadata": {},
   "outputs": [
    {
     "data": {
      "text/plain": [
       "{8}"
      ]
     },
     "execution_count": 23,
     "metadata": {},
     "output_type": "execute_result"
    }
   ],
   "source": [
    "a &c"
   ]
  },
  {
   "cell_type": "code",
   "execution_count": 24,
   "id": "48f15278-cdee-4027-af42-a59fbf54a5d0",
   "metadata": {},
   "outputs": [
    {
     "data": {
      "text/plain": [
       "{8}"
      ]
     },
     "execution_count": 24,
     "metadata": {},
     "output_type": "execute_result"
    }
   ],
   "source": [
    "b & c"
   ]
  },
  {
   "cell_type": "code",
   "execution_count": 25,
   "id": "f7fb1c79-3040-4ebe-9221-549e2be3a8d8",
   "metadata": {},
   "outputs": [
    {
     "data": {
      "text/plain": [
       "{6, 7, 8}"
      ]
     },
     "execution_count": 25,
     "metadata": {},
     "output_type": "execute_result"
    }
   ],
   "source": [
    "b & a"
   ]
  },
  {
   "cell_type": "code",
   "execution_count": 26,
   "id": "d373ae9f-4cc3-4416-9993-8b8b33e5f61d",
   "metadata": {},
   "outputs": [
    {
     "data": {
      "text/plain": [
       "{8}"
      ]
     },
     "execution_count": 26,
     "metadata": {},
     "output_type": "execute_result"
    }
   ],
   "source": [
    "a & b & c"
   ]
  },
  {
   "cell_type": "code",
   "execution_count": 27,
   "id": "d7b65ffb-7104-436b-9593-a7637654c3e0",
   "metadata": {},
   "outputs": [
    {
     "name": "stdout",
     "output_type": "stream",
     "text": [
      "{1, 2, 3, 7, 6, 8}\n",
      "{4, 5, 6, 7, 8}\n",
      "{8, 9, 10}\n"
     ]
    }
   ],
   "source": [
    "print(a)\n",
    "print(b)\n",
    "print(c)"
   ]
  },
  {
   "cell_type": "code",
   "execution_count": 29,
   "id": "55caeb8b-7617-4cc4-955d-36d50c8f881f",
   "metadata": {},
   "outputs": [
    {
     "data": {
      "text/plain": [
       "{8}"
      ]
     },
     "execution_count": 29,
     "metadata": {},
     "output_type": "execute_result"
    }
   ],
   "source": [
    "c.intersection_update(b)\n",
    "c"
   ]
  },
  {
   "cell_type": "code",
   "execution_count": 30,
   "id": "22bd8463-eec8-41c5-96e7-78a57858f1ef",
   "metadata": {},
   "outputs": [],
   "source": [
    "a1={1,2,3,4,5,6,7,8,9}\n",
    "b1={3,4,5,6,7,8}\n",
    "c1={10,20,30,40}"
   ]
  },
  {
   "cell_type": "code",
   "execution_count": 31,
   "id": "d6a95d81-6955-4d61-90fe-ae6542c07b68",
   "metadata": {},
   "outputs": [
    {
     "data": {
      "text/plain": [
       "True"
      ]
     },
     "execution_count": 31,
     "metadata": {},
     "output_type": "execute_result"
    }
   ],
   "source": [
    "a1.issuperset(b1)"
   ]
  },
  {
   "cell_type": "code",
   "execution_count": 32,
   "id": "8ae47531-e1c4-407a-ae22-3c95ebc67393",
   "metadata": {},
   "outputs": [
    {
     "data": {
      "text/plain": [
       "True"
      ]
     },
     "execution_count": 32,
     "metadata": {},
     "output_type": "execute_result"
    }
   ],
   "source": [
    "b1.issubset(a1)"
   ]
  },
  {
   "cell_type": "code",
   "execution_count": 33,
   "id": "baa44d08-38de-423d-8ed1-9639b035909a",
   "metadata": {},
   "outputs": [
    {
     "data": {
      "text/plain": [
       "True"
      ]
     },
     "execution_count": 33,
     "metadata": {},
     "output_type": "execute_result"
    }
   ],
   "source": [
    "c1.isdisjoint(b1)"
   ]
  },
  {
   "cell_type": "code",
   "execution_count": 36,
   "id": "9b71e7d3-dfc3-4712-b069-a84d1eace186",
   "metadata": {},
   "outputs": [],
   "source": [
    "a2={15,25,35,45}\n",
    "b2={3,4,5,6,7,8}\n",
    "c2={10,20,30,40}"
   ]
  },
  {
   "cell_type": "code",
   "execution_count": 38,
   "id": "2f3c25a3-039f-44b1-ad96-c46c9fa99aca",
   "metadata": {},
   "outputs": [
    {
     "data": {
      "text/plain": [
       "False"
      ]
     },
     "execution_count": 38,
     "metadata": {},
     "output_type": "execute_result"
    }
   ],
   "source": [
    "b2.issubset(a2)"
   ]
  },
  {
   "cell_type": "code",
   "execution_count": 39,
   "id": "fc7f04ae-f514-4c22-aa02-951612d67121",
   "metadata": {},
   "outputs": [
    {
     "data": {
      "text/plain": [
       "False"
      ]
     },
     "execution_count": 39,
     "metadata": {},
     "output_type": "execute_result"
    }
   ],
   "source": [
    "a2.issuperset(b2)"
   ]
  },
  {
   "cell_type": "code",
   "execution_count": 41,
   "id": "8a989a0b-73fa-4864-b76b-aba30b6d08dd",
   "metadata": {},
   "outputs": [
    {
     "data": {
      "text/plain": [
       "True"
      ]
     },
     "execution_count": 41,
     "metadata": {},
     "output_type": "execute_result"
    }
   ],
   "source": [
    "c2.isdisjoint(b2)"
   ]
  },
  {
   "cell_type": "markdown",
   "id": "c83d3584-bf62-4e81-8700-065b1dcb8ef3",
   "metadata": {},
   "source": [
    "## dictionary"
   ]
  },
  {
   "cell_type": "code",
   "execution_count": 43,
   "id": "73dfbf3b-08a8-4e5c-b8f5-a1bd26417b97",
   "metadata": {},
   "outputs": [
    {
     "data": {
      "text/plain": [
       "{}"
      ]
     },
     "execution_count": 43,
     "metadata": {},
     "output_type": "execute_result"
    }
   ],
   "source": [
    "d={}  ##create dictionary\n",
    "d"
   ]
  },
  {
   "cell_type": "code",
   "execution_count": 44,
   "id": "1c477772-a93b-4c9d-80a5-1a66bdeac553",
   "metadata": {},
   "outputs": [
    {
     "data": {
      "text/plain": [
       "dict"
      ]
     },
     "execution_count": 44,
     "metadata": {},
     "output_type": "execute_result"
    }
   ],
   "source": [
    "type(d)"
   ]
  },
  {
   "cell_type": "code",
   "execution_count": 46,
   "id": "687501b5-0342-4ea8-af3d-b87a46afec84",
   "metadata": {},
   "outputs": [
    {
     "data": {
      "text/plain": [
       "{1: 'one', 2: 'two', 3: 'three'}"
      ]
     },
     "execution_count": 46,
     "metadata": {},
     "output_type": "execute_result"
    }
   ],
   "source": [
    "d1 = {1:'one', 2:'two', 3:'three' }\n",
    "d1"
   ]
  },
  {
   "cell_type": "code",
   "execution_count": 47,
   "id": "e804ea9e-2521-4c4f-8b4f-b3830ba2527f",
   "metadata": {},
   "outputs": [
    {
     "data": {
      "text/plain": [
       "{'one': 1, 'two': 2, 'three': 3}"
      ]
     },
     "execution_count": 47,
     "metadata": {},
     "output_type": "execute_result"
    }
   ],
   "source": [
    "d2={'one':1, 'two':2, 'three':3}\n",
    "d2"
   ]
  },
  {
   "cell_type": "code",
   "execution_count": 49,
   "id": "aadb7926-bab6-4b88-8556-503e38c66dc9",
   "metadata": {},
   "outputs": [
    {
     "data": {
      "text/plain": [
       "dict_keys(['one', 'two', 'three'])"
      ]
     },
     "execution_count": 49,
     "metadata": {},
     "output_type": "execute_result"
    }
   ],
   "source": [
    "d2.keys()"
   ]
  },
  {
   "cell_type": "code",
   "execution_count": 50,
   "id": "61653837-1f93-41b3-ab7b-fa84f6040ba1",
   "metadata": {},
   "outputs": [
    {
     "data": {
      "text/plain": [
       "dict_values([1, 2, 3])"
      ]
     },
     "execution_count": 50,
     "metadata": {},
     "output_type": "execute_result"
    }
   ],
   "source": [
    "d2.values()"
   ]
  },
  {
   "cell_type": "code",
   "execution_count": 51,
   "id": "2373d923-a4d2-4879-b4d7-4c633f7a3ac1",
   "metadata": {},
   "outputs": [
    {
     "data": {
      "text/plain": [
       "dict_items([('one', 1), ('two', 2), ('three', 3)])"
      ]
     },
     "execution_count": 51,
     "metadata": {},
     "output_type": "execute_result"
    }
   ],
   "source": [
    "d2.items()"
   ]
  },
  {
   "cell_type": "code",
   "execution_count": 53,
   "id": "8744aa93-23e9-462d-bae7-bc26ca5955c9",
   "metadata": {},
   "outputs": [
    {
     "data": {
      "text/plain": [
       "3"
      ]
     },
     "execution_count": 53,
     "metadata": {},
     "output_type": "execute_result"
    }
   ],
   "source": [
    "len(d2)"
   ]
  },
  {
   "cell_type": "code",
   "execution_count": null,
   "id": "896815b2-3e0b-4e06-91ab-bdd90b9315b0",
   "metadata": {},
   "outputs": [],
   "source": []
  }
 ],
 "metadata": {
  "kernelspec": {
   "display_name": "Python 3 (ipykernel)",
   "language": "python",
   "name": "python3"
  },
  "language_info": {
   "codemirror_mode": {
    "name": "ipython",
    "version": 3
   },
   "file_extension": ".py",
   "mimetype": "text/x-python",
   "name": "python",
   "nbconvert_exporter": "python",
   "pygments_lexer": "ipython3",
   "version": "3.13.5"
  },
  "widgets": {
   "application/vnd.jupyter.widget-state+json": {
    "state": {},
    "version_major": 2,
    "version_minor": 0
   }
  }
 },
 "nbformat": 4,
 "nbformat_minor": 5
}
