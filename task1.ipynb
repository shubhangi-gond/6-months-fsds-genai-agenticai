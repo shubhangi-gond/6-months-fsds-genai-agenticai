{
 "cells": [
  {
   "cell_type": "code",
   "execution_count": null,
   "id": "8ce44deb-006b-48dc-991c-506b59c0d778",
   "metadata": {},
   "outputs": [],
   "source": [
    "# print is use for function"
   ]
  },
  {
   "cell_type": "code",
   "execution_count": 1,
   "id": "adbb12b2-54d4-44d3-b82d-ed47e6a797ca",
   "metadata": {},
   "outputs": [
    {
     "data": {
      "text/plain": [
       "20"
      ]
     },
     "execution_count": 1,
     "metadata": {},
     "output_type": "execute_result"
    }
   ],
   "source": [
    "a=10\n",
    "b=20\n",
    "a\n",
    "b"
   ]
  },
  {
   "cell_type": "code",
   "execution_count": 2,
   "id": "a332b42f-732b-4fa9-b56d-1cd7c3572476",
   "metadata": {},
   "outputs": [
    {
     "name": "stdout",
     "output_type": "stream",
     "text": [
      "10\n",
      "20\n"
     ]
    }
   ],
   "source": [
    "a=10\n",
    "b=20\n",
    "print(a)\n",
    "print(b)"
   ]
  },
  {
   "cell_type": "code",
   "execution_count": 3,
   "id": "9b7ee4e1-aefe-44f7-a67a-81eba088fcf7",
   "metadata": {},
   "outputs": [
    {
     "name": "stdout",
     "output_type": "stream",
     "text": [
      "10\n",
      "20 300\n",
      "nit 30 5.5\n"
     ]
    }
   ],
   "source": [
    "print(10)\n",
    "print(20,300)\n",
    "print('nit',30,5.5)"
   ]
  },
  {
   "cell_type": "code",
   "execution_count": 4,
   "id": "ecb55cf3-6a6b-4a74-adfe-114db2b342ea",
   "metadata": {},
   "outputs": [
    {
     "name": "stdout",
     "output_type": "stream",
     "text": [
      "30\n"
     ]
    }
   ],
   "source": [
    "num1=10\n",
    "num2=20\n",
    "add= num1+num2\n",
    "print(add)"
   ]
  },
  {
   "cell_type": "code",
   "execution_count": null,
   "id": "f9ae2a00-b3ae-42b3-8982-9ea34f462bbc",
   "metadata": {},
   "outputs": [],
   "source": [
    "#print result with string"
   ]
  },
  {
   "cell_type": "code",
   "execution_count": 5,
   "id": "1c8de0f2-2556-470e-8b0e-b3d66667ba0e",
   "metadata": {},
   "outputs": [
    {
     "name": "stdout",
     "output_type": "stream",
     "text": [
      "the addition of 20 and 20 is= 40\n"
     ]
    }
   ],
   "source": [
    "num1=20\n",
    "num=200\n",
    "add=num1+num2\n",
    "print('the addition of',num1,'and',num2,'is=',add)"
   ]
  },
  {
   "cell_type": "code",
   "execution_count": 7,
   "id": "5f594cf3-2f4d-4df7-baf1-2d386c7bb688",
   "metadata": {},
   "outputs": [
    {
     "name": "stdout",
     "output_type": "stream",
     "text": [
      "the addithion of 20 and 200 is =220\n"
     ]
    }
   ],
   "source": [
    "num1=20\n",
    "num2=200\n",
    "add=num1+num2\n",
    "print('the addithion of {} and {} is ={}'.format(num1,num2,add))"
   ]
  },
  {
   "cell_type": "code",
   "execution_count": 1,
   "id": "419d4bbb-1be8-4ba1-b7cd-44e6f3d1945c",
   "metadata": {},
   "outputs": [
    {
     "name": "stdout",
     "output_type": "stream",
     "text": [
      "the average of 100, 1000, and 25 is =375.0 or 375.0\n"
     ]
    }
   ],
   "source": [
    "num1=100\n",
    "num2=1000\n",
    "num3=25\n",
    "avg=(num1+num2+num3)/3\n",
    "avg1=round((num1+num2+num3)/3,2)\n",
    "\n",
    "print('the average of {}, {}, and {} is ={} or {}'.format(num1,num2,num3,avg,avg1))"
   ]
  },
  {
   "cell_type": "code",
   "execution_count": 2,
   "id": "b19beb99-e3ff-47e9-b437-189fa4dfaf61",
   "metadata": {},
   "outputs": [
    {
     "data": {
      "text/plain": [
       "375.0"
      ]
     },
     "execution_count": 2,
     "metadata": {},
     "output_type": "execute_result"
    }
   ],
   "source": [
    "round(avg,2)  #round of till 2 digite after decimal"
   ]
  },
  {
   "cell_type": "code",
   "execution_count": 3,
   "id": "2575c0d5-baa7-4f8c-95c5-1522acceb609",
   "metadata": {},
   "outputs": [
    {
     "name": "stdout",
     "output_type": "stream",
     "text": [
      " the addition of 10 and 20 is = 30 \n"
     ]
    }
   ],
   "source": [
    "n=10\n",
    "n1=20\n",
    "add= n+n1\n",
    "print(f' the addition of {n} and {n1} is = {add} ')"
   ]
  },
  {
   "cell_type": "code",
   "execution_count": 6,
   "id": "a9d38520-1fb3-4cf0-9231-1c49c1ca4931",
   "metadata": {},
   "outputs": [
    {
     "name": "stdout",
     "output_type": "stream",
     "text": [
      "hello my name is python , and i am 20 year old , from hyd.\n"
     ]
    }
   ],
   "source": [
    "name='python'\n",
    "age=20\n",
    "city='hyd'\n",
    "print(f'hello my name is {name} , and i am {age} year old , from {city}.')\n"
   ]
  },
  {
   "cell_type": "code",
   "execution_count": 7,
   "id": "5d3b878b-3716-4dbf-adbd-080af2b229a9",
   "metadata": {},
   "outputs": [
    {
     "name": "stdout",
     "output_type": "stream",
     "text": [
      "the addition of 10 and 20 is= 30\n",
      "the addition of 10 and 20 is=\n",
      "the addition of 10 and 20 is= 30\n"
     ]
    }
   ],
   "source": [
    "#mixed\n",
    "n1=10\n",
    "n2=20\n",
    "add=n1+n2\n",
    "print('the addition of',n1,'and',n2,'is=',add)\n",
    "print('the addition of {} and {} is='.format(n1,n2,add))\n",
    "print(f'the addition of {n1} and {n2} is= {add}')"
   ]
  },
  {
   "cell_type": "markdown",
   "id": "28bab52e-6b2d-4ad1-8cba-112b8f339a4e",
   "metadata": {},
   "source": [
    "## end statement"
   ]
  },
  {
   "cell_type": "code",
   "execution_count": 8,
   "id": "59c1c0bd-edad-49ad-b725-c1f9c5956d27",
   "metadata": {},
   "outputs": [
    {
     "name": "stdout",
     "output_type": "stream",
     "text": [
      "hii\n",
      "bye\n"
     ]
    }
   ],
   "source": [
    "print('hii')\n",
    "print('bye')"
   ]
  },
  {
   "cell_type": "code",
   "execution_count": 9,
   "id": "e5c689bf-8c18-414b-9cf0-cda415bc1cdd",
   "metadata": {},
   "outputs": [
    {
     "name": "stdout",
     "output_type": "stream",
     "text": [
      "hii world good day\n"
     ]
    }
   ],
   "source": [
    "print('hii',end=' ')\n",
    "print('world good day')"
   ]
  },
  {
   "cell_type": "code",
   "execution_count": 10,
   "id": "a4da7315-edf1-4efd-a61f-7ab2d2b17eec",
   "metadata": {},
   "outputs": [
    {
     "name": "stdout",
     "output_type": "stream",
     "text": [
      "hello---->hii---->how are you\n"
     ]
    }
   ],
   "source": [
    "print('hello','hii','how are you',sep='---->')"
   ]
  },
  {
   "cell_type": "code",
   "execution_count": 14,
   "id": "b98bf088-4ad4-4878-9847-bc0e65365a3d",
   "metadata": {},
   "outputs": [
    {
     "name": "stdout",
     "output_type": "stream",
     "text": [
      "hello & hii & hoe are you\n"
     ]
    }
   ],
   "source": [
    "print('hello' , 'hii' , 'hoe are you',sep=' & ')"
   ]
  },
  {
   "cell_type": "code",
   "execution_count": 15,
   "id": "494d3e2d-84d9-4660-95bf-8a0a2e5488fe",
   "metadata": {},
   "outputs": [
    {
     "name": "stdout",
     "output_type": "stream",
     "text": [
      "hello @ hii @ how are you\n"
     ]
    }
   ],
   "source": [
    "print('hello','hii','how are you',sep=' @ ')"
   ]
  },
  {
   "cell_type": "code",
   "execution_count": 16,
   "id": "891dddb4-7290-4bb7-a51d-c0a7ede48653",
   "metadata": {},
   "outputs": [
    {
     "name": "stdout",
     "output_type": "stream",
     "text": [
      "hello hii how are you\n"
     ]
    }
   ],
   "source": [
    "print('hello','hii','how are you',sep=' ')"
   ]
  },
  {
   "cell_type": "code",
   "execution_count": 17,
   "id": "5c77ce46-8cde-41e5-9411-95cfec4004dd",
   "metadata": {},
   "outputs": [
    {
     "name": "stdout",
     "output_type": "stream",
     "text": [
      "2 .\n"
     ]
    }
   ],
   "source": [
    "print(2,'.')  #. is far from 3 so here we will use sep method"
   ]
  },
  {
   "cell_type": "code",
   "execution_count": 19,
   "id": "82ece5c6-df59-4f5e-b74e-127de87fd4a1",
   "metadata": {},
   "outputs": [
    {
     "name": "stdout",
     "output_type": "stream",
     "text": [
      "2.\n"
     ]
    }
   ],
   "source": [
    "print(2,'.',sep='') #see now space setteled(also use to remove space B/W words)"
   ]
  },
  {
   "cell_type": "code",
   "execution_count": 20,
   "id": "dd5d5066-38f4-45b2-8e54-dc797f258456",
   "metadata": {},
   "outputs": [
    {
     "name": "stdout",
     "output_type": "stream",
     "text": [
      "1 2 3.\n"
     ]
    }
   ],
   "source": [
    "print(1,2,end=' ')\n",
    "print(3,'.',sep='')\n"
   ]
  },
  {
   "cell_type": "code",
   "execution_count": null,
   "id": "be443011-e5a0-4eff-a059-e6f54d8e3ba7",
   "metadata": {},
   "outputs": [],
   "source": []
  }
 ],
 "metadata": {
  "kernelspec": {
   "display_name": "Python 3 (ipykernel)",
   "language": "python",
   "name": "python3"
  },
  "language_info": {
   "codemirror_mode": {
    "name": "ipython",
    "version": 3
   },
   "file_extension": ".py",
   "mimetype": "text/x-python",
   "name": "python",
   "nbconvert_exporter": "python",
   "pygments_lexer": "ipython3",
   "version": "3.13.5"
  },
  "widgets": {
   "application/vnd.jupyter.widget-state+json": {
    "state": {},
    "version_major": 2,
    "version_minor": 0
   }
  }
 },
 "nbformat": 4,
 "nbformat_minor": 5
}
