{
 "cells": [
  {
   "cell_type": "markdown",
   "id": "22e08cbc-1440-476c-bb62-2cd474bb7bad",
   "metadata": {},
   "source": [
    "# tuple creation"
   ]
  },
  {
   "cell_type": "code",
   "execution_count": 3,
   "id": "828e42bc-ba07-40e6-84e2-ad8b9218dc17",
   "metadata": {},
   "outputs": [
    {
     "data": {
      "text/plain": [
       "(10, 20, 30, 40)"
      ]
     },
     "execution_count": 3,
     "metadata": {},
     "output_type": "execute_result"
    }
   ],
   "source": [
    "tup2 = (10,20,30,40)  #tuple of integer value\n",
    "tup2"
   ]
  },
  {
   "cell_type": "code",
   "execution_count": 4,
   "id": "e5c6fe6b-ca93-4ef9-a666-e6d1304ac0f7",
   "metadata": {},
   "outputs": [
    {
     "data": {
      "text/plain": [
       "(10.2, 20.5, 5.5)"
      ]
     },
     "execution_count": 4,
     "metadata": {},
     "output_type": "execute_result"
    }
   ],
   "source": [
    "tup3 = (10.2,20.5,5.5)  #tuple of floating value\n",
    "tup3"
   ]
  },
  {
   "cell_type": "code",
   "execution_count": 5,
   "id": "e99f00c1-5a98-4948-b40b-a3745007da90",
   "metadata": {},
   "outputs": [
    {
     "data": {
      "text/plain": [
       "('shubh', 'rani', 'raj')"
      ]
     },
     "execution_count": 5,
     "metadata": {},
     "output_type": "execute_result"
    }
   ],
   "source": [
    "tup4 = ('shubh','rani','raj')  #tuple of string value\n",
    "tup4"
   ]
  },
  {
   "cell_type": "code",
   "execution_count": 9,
   "id": "d6caec87-e95a-4783-ad11-63902952fb07",
   "metadata": {},
   "outputs": [
    {
     "data": {
      "text/plain": [
       "6"
      ]
     },
     "execution_count": 9,
     "metadata": {},
     "output_type": "execute_result"
    }
   ],
   "source": [
    "len(tup6)  #length of list\n"
   ]
  },
  {
   "cell_type": "markdown",
   "id": "f6f49b03-bacf-4192-bb05-b4fc54452918",
   "metadata": {},
   "source": []
  },
  {
   "cell_type": "markdown",
   "id": "1f1e1dac-3822-4478-a5ab-feb2bba7c659",
   "metadata": {},
   "source": [
    "# Tuple Indexing"
   ]
  },
  {
   "cell_type": "code",
   "execution_count": 17,
   "id": "64d86122-3ca7-4b08-b4cd-30b6b15bf72e",
   "metadata": {},
   "outputs": [
    {
     "data": {
      "text/plain": [
       "10"
      ]
     },
     "execution_count": 17,
     "metadata": {},
     "output_type": "execute_result"
    }
   ],
   "source": [
    "tup2[0] "
   ]
  },
  {
   "cell_type": "code",
   "execution_count": 19,
   "id": "c2c1c99c-bb2a-4db8-8a5f-b09264074bbe",
   "metadata": {},
   "outputs": [
    {
     "data": {
      "text/plain": [
       "'s'"
      ]
     },
     "execution_count": 19,
     "metadata": {},
     "output_type": "execute_result"
    }
   ],
   "source": [
    "tup6[0][0] #Nested indexing - Access the first character of first tuple element"
   ]
  },
  {
   "cell_type": "code",
   "execution_count": 20,
   "id": "a4b49ac2-cc66-4ea8-bdf6-120c05b0434d",
   "metadata": {},
   "outputs": [
    {
     "data": {
      "text/plain": [
       "'h'"
      ]
     },
     "execution_count": 20,
     "metadata": {},
     "output_type": "execute_result"
    }
   ],
   "source": [
    "tup6[0][4]"
   ]
  },
  {
   "cell_type": "code",
   "execution_count": 21,
   "id": "4934113b-1c73-4f80-9c3d-23ae453ac67c",
   "metadata": {},
   "outputs": [
    {
     "data": {
      "text/plain": [
       "'raj'"
      ]
     },
     "execution_count": 21,
     "metadata": {},
     "output_type": "execute_result"
    }
   ],
   "source": [
    " #last item of the tuple\n",
    "tup4[-1]"
   ]
  },
  {
   "cell_type": "code",
   "execution_count": null,
   "id": "7bb512c2-522f-4e1e-a98f-cd123707449b",
   "metadata": {},
   "outputs": [],
   "source": []
  },
  {
   "cell_type": "markdown",
   "id": "39c9c8b6-12ac-49c1-9674-21c5d3656150",
   "metadata": {},
   "source": [
    "# Tuple Slicing"
   ]
  },
  {
   "cell_type": "code",
   "execution_count": 24,
   "id": "7d07c9f5-a9e4-41de-a900-8c85ef1de172",
   "metadata": {},
   "outputs": [
    {
     "data": {
      "text/plain": [
       "('one', 'two', 'three', 'four', 'five', 'six', 'seven', 'eight', 'nine', 'ten')"
      ]
     },
     "execution_count": 24,
     "metadata": {},
     "output_type": "execute_result"
    }
   ],
   "source": [
    "shubh = ('one', 'two', 'three', 'four', 'five', 'six', 'seven', 'eight', 'nine', 'ten')\n",
    "shubh"
   ]
  },
  {
   "cell_type": "code",
   "execution_count": 25,
   "id": "76f9c7f3-4d69-4b94-a161-f97bc798617d",
   "metadata": {},
   "outputs": [
    {
     "data": {
      "text/plain": [
       "10"
      ]
     },
     "execution_count": 25,
     "metadata": {},
     "output_type": "execute_result"
    }
   ],
   "source": [
    "len(shubh)"
   ]
  },
  {
   "cell_type": "code",
   "execution_count": 27,
   "id": "7328030e-2b95-489f-9c49-a8787412c82d",
   "metadata": {},
   "outputs": [
    {
     "data": {
      "text/plain": [
       "('one', 'two', 'three')"
      ]
     },
     "execution_count": 27,
     "metadata": {},
     "output_type": "execute_result"
    }
   ],
   "source": [
    "shubh[0:3]  #Return all items from 0th to 3rd index location excluding the item"
   ]
  },
  {
   "cell_type": "code",
   "execution_count": 28,
   "id": "6ce9e2ef-33be-4520-83cb-f7785dd51118",
   "metadata": {},
   "outputs": [
    {
     "data": {
      "text/plain": [
       "('four', 'five', 'six')"
      ]
     },
     "execution_count": 28,
     "metadata": {},
     "output_type": "execute_result"
    }
   ],
   "source": [
    "shubh[3:6] "
   ]
  },
  {
   "cell_type": "code",
   "execution_count": 29,
   "id": "92e6e0fa-a258-45d7-a347-6001ca9af54d",
   "metadata": {},
   "outputs": [
    {
     "data": {
      "text/plain": [
       "('one', 'two', 'three')"
      ]
     },
     "execution_count": 29,
     "metadata": {},
     "output_type": "execute_result"
    }
   ],
   "source": [
    "#return first three item\n",
    "shubh[:3]  "
   ]
  },
  {
   "cell_type": "code",
   "execution_count": 30,
   "id": "57033a63-24e2-4490-810a-b7662b96e9c4",
   "metadata": {},
   "outputs": [
    {
     "data": {
      "text/plain": [
       "('four', 'five', 'six', 'seven', 'eight', 'nine', 'ten')"
      ]
     },
     "execution_count": 30,
     "metadata": {},
     "output_type": "execute_result"
    }
   ],
   "source": [
    "#return from index 3\n",
    "shubh[3:] "
   ]
  },
  {
   "cell_type": "code",
   "execution_count": 31,
   "id": "c3074662-63a4-4e0d-b2c7-ee5e140336fa",
   "metadata": {},
   "outputs": [
    {
     "data": {
      "text/plain": [
       "('eight', 'nine', 'ten')"
      ]
     },
     "execution_count": 31,
     "metadata": {},
     "output_type": "execute_result"
    }
   ],
   "source": [
    "#return last 3 items\n",
    "shubh[-3:]  "
   ]
  },
  {
   "cell_type": "code",
   "execution_count": 34,
   "id": "f2b10d0b-7c65-4e29-bf47-717bdf1f1e3d",
   "metadata": {},
   "outputs": [
    {
     "data": {
      "text/plain": [
       "('one', 'two', 'three', 'four', 'five', 'six', 'seven', 'eight', 'nine', 'ten')"
      ]
     },
     "execution_count": 34,
     "metadata": {},
     "output_type": "execute_result"
    }
   ],
   "source": [
    "shubh[:] #return whole tuple"
   ]
  },
  {
   "cell_type": "code",
   "execution_count": null,
   "id": "c6533cae-84ea-4ed8-b926-c84f83b9d889",
   "metadata": {},
   "outputs": [],
   "source": []
  },
  {
   "cell_type": "markdown",
   "id": "a7e04c23-2099-4f8c-89c9-163e519fb9db",
   "metadata": {},
   "source": [
    "# Remove & Change Items"
   ]
  },
  {
   "cell_type": "code",
   "execution_count": 35,
   "id": "3683be27-7633-438e-9272-768c30dd5b9c",
   "metadata": {},
   "outputs": [
    {
     "data": {
      "text/plain": [
       "('one', 'two', 'three', 'four', 'five', 'six', 'seven', 'eight', 'nine', 'ten')"
      ]
     },
     "execution_count": 35,
     "metadata": {},
     "output_type": "execute_result"
    }
   ],
   "source": [
    "shubh"
   ]
  },
  {
   "cell_type": "code",
   "execution_count": 36,
   "id": "06b7ee49-fe4d-4f1b-bc55-a667ab2f016b",
   "metadata": {},
   "outputs": [
    {
     "ename": "TypeError",
     "evalue": "'tuple' object doesn't support item deletion",
     "output_type": "error",
     "traceback": [
      "\u001b[1;31m---------------------------------------------------------------------------\u001b[0m",
      "\u001b[1;31mTypeError\u001b[0m                                 Traceback (most recent call last)",
      "Cell \u001b[1;32mIn[36], line 1\u001b[0m\n\u001b[1;32m----> 1\u001b[0m \u001b[38;5;28;01mdel\u001b[39;00m shubh[\u001b[38;5;241m0\u001b[39m]\n",
      "\u001b[1;31mTypeError\u001b[0m: 'tuple' object doesn't support item deletion"
     ]
    }
   ],
   "source": [
    "del shubh[0]  #tuple are immutable which means we can't delete tuple items"
   ]
  },
  {
   "cell_type": "code",
   "execution_count": 37,
   "id": "50cb9cf1-2ebe-429b-b64b-732bafcbae72",
   "metadata": {},
   "outputs": [
    {
     "ename": "TypeError",
     "evalue": "'tuple' object does not support item assignment",
     "output_type": "error",
     "traceback": [
      "\u001b[1;31m---------------------------------------------------------------------------\u001b[0m",
      "\u001b[1;31mTypeError\u001b[0m                                 Traceback (most recent call last)",
      "Cell \u001b[1;32mIn[37], line 1\u001b[0m\n\u001b[1;32m----> 1\u001b[0m shubh[\u001b[38;5;241m0\u001b[39m] \u001b[38;5;241m=\u001b[39m \u001b[38;5;241m1\u001b[39m\n",
      "\u001b[1;31mTypeError\u001b[0m: 'tuple' object does not support item assignment"
     ]
    }
   ],
   "source": [
    "shubh[0] = 1  #tuple are immutable which means we can't change tuple items"
   ]
  },
  {
   "cell_type": "code",
   "execution_count": null,
   "id": "b16a6c30-da42-429a-9849-536e2cad9a52",
   "metadata": {},
   "outputs": [],
   "source": [
    "del shubh  # deleting entire tuple object is possible"
   ]
  },
  {
   "cell_type": "code",
   "execution_count": null,
   "id": "55153fcc-8476-4d30-a478-fcf238c2b930",
   "metadata": {},
   "outputs": [],
   "source": []
  },
  {
   "cell_type": "markdown",
   "id": "f7acfff3-be51-4a85-a291-4d1fe7bfb230",
   "metadata": {},
   "source": [
    "# Loop through a tuple"
   ]
  },
  {
   "cell_type": "code",
   "execution_count": 3,
   "id": "bd163db8-1dff-40a4-9a65-39465c575fa8",
   "metadata": {},
   "outputs": [
    {
     "data": {
      "text/plain": [
       "('apple', 'ball', 'cat', 'dog', 'egg', 'fish', 'goat', 'hit')"
      ]
     },
     "execution_count": 3,
     "metadata": {},
     "output_type": "execute_result"
    }
   ],
   "source": [
    "shubh1=('apple','ball','cat','dog','egg','fish','goat','hit')\n",
    "shubh1"
   ]
  },
  {
   "cell_type": "code",
   "execution_count": 4,
   "id": "408fc3e0-7686-4250-ba8e-283b7e903702",
   "metadata": {},
   "outputs": [
    {
     "name": "stdout",
     "output_type": "stream",
     "text": [
      "apple\n",
      "ball\n",
      "cat\n",
      "dog\n",
      "egg\n",
      "fish\n",
      "goat\n",
      "hit\n"
     ]
    }
   ],
   "source": [
    "for i in shubh1:\n",
    "    print(i)"
   ]
  },
  {
   "cell_type": "code",
   "execution_count": 5,
   "id": "0df6cbd5-5b03-4947-aded-17fbefa4d9ba",
   "metadata": {},
   "outputs": [
    {
     "name": "stdout",
     "output_type": "stream",
     "text": [
      "(0, 'apple')\n",
      "(1, 'ball')\n",
      "(2, 'cat')\n",
      "(3, 'dog')\n",
      "(4, 'egg')\n",
      "(5, 'fish')\n",
      "(6, 'goat')\n",
      "(7, 'hit')\n"
     ]
    }
   ],
   "source": [
    "for i in enumerate(shubh1):\n",
    "    print(i)"
   ]
  },
  {
   "cell_type": "code",
   "execution_count": null,
   "id": "d3511d2d-74aa-4138-9008-9a4240018155",
   "metadata": {},
   "outputs": [],
   "source": []
  },
  {
   "cell_type": "markdown",
   "id": "a33b83bc-0966-46c1-93e8-d4f65ef05de3",
   "metadata": {},
   "source": [
    "# Tuple Membership"
   ]
  },
  {
   "cell_type": "code",
   "execution_count": 9,
   "id": "8b7a3677-31cd-4b6f-91e0-13a2638f5f90",
   "metadata": {},
   "outputs": [
    {
     "data": {
      "text/plain": [
       "('apple', 'ball', 'cat', 'dog', 'egg', 'fish', 'goat', 'hit')"
      ]
     },
     "execution_count": 9,
     "metadata": {},
     "output_type": "execute_result"
    }
   ],
   "source": [
    "shubh1"
   ]
  },
  {
   "cell_type": "code",
   "execution_count": 11,
   "id": "99f927ac-2dbe-40bd-b0cc-a8d4faff67cd",
   "metadata": {},
   "outputs": [
    {
     "data": {
      "text/plain": [
       "False"
      ]
     },
     "execution_count": 11,
     "metadata": {},
     "output_type": "execute_result"
    }
   ],
   "source": [
    "'one' in shubh1 # Check if 'one' exist in the list then result is True otherwise False"
   ]
  },
  {
   "cell_type": "code",
   "execution_count": 12,
   "id": "58db1ab3-d6ed-48a9-bfc2-f66343489e14",
   "metadata": {},
   "outputs": [
    {
     "data": {
      "text/plain": [
       "True"
      ]
     },
     "execution_count": 12,
     "metadata": {},
     "output_type": "execute_result"
    }
   ],
   "source": [
    "'dog' in shubh1  # 'dog' is exist in this list---result is True"
   ]
  },
  {
   "cell_type": "code",
   "execution_count": 13,
   "id": "1bb23bd4-25eb-4fec-920e-df76876cbf39",
   "metadata": {},
   "outputs": [
    {
     "data": {
      "text/plain": [
       "False"
      ]
     },
     "execution_count": 13,
     "metadata": {},
     "output_type": "execute_result"
    }
   ],
   "source": [
    "'nit' in shubh1  # 'nit' is doesn't exist in this list---result is False"
   ]
  },
  {
   "cell_type": "code",
   "execution_count": 15,
   "id": "4d52f80a-59a8-4064-978d-67f440cf6441",
   "metadata": {},
   "outputs": [
    {
     "name": "stdout",
     "output_type": "stream",
     "text": [
      "hit is present in the tuple\n"
     ]
    }
   ],
   "source": [
    "if 'hit' in shubh1:  #check if 'hit' exist in the list\n",
    "    print('hit is present in the tuple')\n",
    "else:\n",
    "    print('hit is not present in the tuple')"
   ]
  },
  {
   "cell_type": "code",
   "execution_count": 16,
   "id": "3e2db3a0-8ac0-4721-af8b-5e4877c72110",
   "metadata": {},
   "outputs": [
    {
     "name": "stdout",
     "output_type": "stream",
     "text": [
      "one is not present in the tuple\n"
     ]
    }
   ],
   "source": [
    "if 'one' in shubh1:\n",
    "    print('one is present in the tuple')\n",
    "else:\n",
    "    print('one is not present in the tuple')"
   ]
  },
  {
   "cell_type": "code",
   "execution_count": null,
   "id": "9bb201fe-7fe1-42ce-b0a4-c812108a8475",
   "metadata": {},
   "outputs": [],
   "source": []
  },
  {
   "cell_type": "markdown",
   "id": "857f59d6-afff-41d7-b1c1-2dd3bb5ba03f",
   "metadata": {},
   "source": [
    "# Index Position"
   ]
  },
  {
   "cell_type": "code",
   "execution_count": 20,
   "id": "3c0c31e2-8130-4a02-a60d-c92fa688045b",
   "metadata": {},
   "outputs": [
    {
     "data": {
      "text/plain": [
       "('apple', 'ball', 'cat', 'dog', 'egg', 'fish', 'goat', 'hit')"
      ]
     },
     "execution_count": 20,
     "metadata": {},
     "output_type": "execute_result"
    }
   ],
   "source": [
    "shubh1"
   ]
  },
  {
   "cell_type": "code",
   "execution_count": 21,
   "id": "b9a0cd36-0c3b-480a-a062-4d37ef3450e4",
   "metadata": {},
   "outputs": [
    {
     "data": {
      "text/plain": [
       "7"
      ]
     },
     "execution_count": 21,
     "metadata": {},
     "output_type": "execute_result"
    }
   ],
   "source": [
    "shubh1.index('hit')  #index of seven element equal to 'hit'"
   ]
  },
  {
   "cell_type": "code",
   "execution_count": 23,
   "id": "d069ba60-f805-4147-99b5-dade73a13722",
   "metadata": {},
   "outputs": [
    {
     "data": {
      "text/plain": [
       "4"
      ]
     },
     "execution_count": 23,
     "metadata": {},
     "output_type": "execute_result"
    }
   ],
   "source": [
    "shubh1.index('egg')  #index of four element equal to 'egg'"
   ]
  },
  {
   "cell_type": "code",
   "execution_count": 24,
   "id": "5e8eec6b-0a6e-485a-b3eb-be1ab24a7e2c",
   "metadata": {},
   "outputs": [
    {
     "data": {
      "text/plain": [
       "('apple', 'ball', 'cat', 'dog', 'egg', 'fish', 'goat', 'hit')"
      ]
     },
     "execution_count": 24,
     "metadata": {},
     "output_type": "execute_result"
    }
   ],
   "source": [
    "shubh1"
   ]
  },
  {
   "cell_type": "code",
   "execution_count": 25,
   "id": "e858fe78-251b-46df-95d8-90006883f45c",
   "metadata": {},
   "outputs": [
    {
     "data": {
      "text/plain": [
       "0"
      ]
     },
     "execution_count": 25,
     "metadata": {},
     "output_type": "execute_result"
    }
   ],
   "source": [
    "shubh1.index('apple')  #index of first element equal to 'apple'"
   ]
  },
  {
   "cell_type": "code",
   "execution_count": null,
   "id": "2a1cae4c-9d4a-4915-a04f-c2419f98a4e0",
   "metadata": {},
   "outputs": [],
   "source": []
  },
  {
   "cell_type": "markdown",
   "id": "4f25ff3f-ea94-49c9-9bcb-940c162d4b16",
   "metadata": {},
   "source": [
    "# Sorting"
   ]
  },
  {
   "cell_type": "code",
   "execution_count": 30,
   "id": "d677a978-366d-4f39-8378-32a3dbd538c5",
   "metadata": {},
   "outputs": [
    {
     "data": {
      "text/plain": [
       "(59, 93, 32, 43, 56, 67)"
      ]
     },
     "execution_count": 30,
     "metadata": {},
     "output_type": "execute_result"
    }
   ],
   "source": [
    "shubh2 = (59,93,32,43,56,67)\n",
    "shubh2\n"
   ]
  },
  {
   "cell_type": "code",
   "execution_count": 32,
   "id": "be91ecb5-0950-4732-ab3e-11cee2f796c2",
   "metadata": {},
   "outputs": [
    {
     "data": {
      "text/plain": [
       "[32, 43, 56, 59, 67, 93]"
      ]
     },
     "execution_count": 32,
     "metadata": {},
     "output_type": "execute_result"
    }
   ],
   "source": [
    "sorted(shubh2)  #Returns a new sorted list and doesn't change original tuple"
   ]
  },
  {
   "cell_type": "code",
   "execution_count": 33,
   "id": "7cbcb6c4-095b-4a0b-8d76-7ba3d1c77507",
   "metadata": {},
   "outputs": [
    {
     "data": {
      "text/plain": [
       "[93, 67, 59, 56, 43, 32]"
      ]
     },
     "execution_count": 33,
     "metadata": {},
     "output_type": "execute_result"
    }
   ],
   "source": [
    "#sort in descending order\n",
    "sorted(shubh2, reverse=True) "
   ]
  },
  {
   "cell_type": "code",
   "execution_count": 34,
   "id": "adf46023-3494-4e3b-8b41-200b5ed28751",
   "metadata": {},
   "outputs": [
    {
     "data": {
      "text/plain": [
       "[32, 43, 56, 59, 67, 93]"
      ]
     },
     "execution_count": 34,
     "metadata": {},
     "output_type": "execute_result"
    }
   ],
   "source": [
    "sorted(shubh2, reverse=False)"
   ]
  },
  {
   "cell_type": "code",
   "execution_count": null,
   "id": "69726b23-2543-49cc-a127-235d9d555891",
   "metadata": {},
   "outputs": [],
   "source": []
  }
 ],
 "metadata": {
  "kernelspec": {
   "display_name": "Python 3 (ipykernel)",
   "language": "python",
   "name": "python3"
  },
  "language_info": {
   "codemirror_mode": {
    "name": "ipython",
    "version": 3
   },
   "file_extension": ".py",
   "mimetype": "text/x-python",
   "name": "python",
   "nbconvert_exporter": "python",
   "pygments_lexer": "ipython3",
   "version": "3.13.5"
  },
  "widgets": {
   "application/vnd.jupyter.widget-state+json": {
    "state": {},
    "version_major": 2,
    "version_minor": 0
   }
  }
 },
 "nbformat": 4,
 "nbformat_minor": 5
}
