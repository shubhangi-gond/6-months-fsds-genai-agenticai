{
 "cells": [
  {
   "cell_type": "code",
   "execution_count": 4,
   "id": "1476bee8-99a3-4503-8cfb-71226c761d89",
   "metadata": {},
   "outputs": [
    {
     "data": {
      "text/plain": [
       "[]"
      ]
     },
     "execution_count": 4,
     "metadata": {},
     "output_type": "execute_result"
    }
   ],
   "source": [
    "l=[]\n",
    "l"
   ]
  },
  {
   "cell_type": "code",
   "execution_count": 6,
   "id": "2aa2a2ed-9660-45fd-9a87-14d5b72a6d6b",
   "metadata": {},
   "outputs": [
    {
     "data": {
      "text/plain": [
       "[10, 20, 30, 10, 20, 30]"
      ]
     },
     "execution_count": 6,
     "metadata": {},
     "output_type": "execute_result"
    }
   ],
   "source": [
    "l.append(10)\n",
    "l.append(20)\n",
    "l.append(30)\n",
    "l\n"
   ]
  },
  {
   "cell_type": "code",
   "execution_count": 8,
   "id": "bb7ec145-f9bb-4c52-b248-db458f7bcf99",
   "metadata": {},
   "outputs": [
    {
     "data": {
      "text/plain": [
       "[100, 20, 30, 10, 20, 30]"
      ]
     },
     "execution_count": 8,
     "metadata": {},
     "output_type": "execute_result"
    }
   ],
   "source": [
    "l[0]=100\n",
    "l"
   ]
  },
  {
   "cell_type": "code",
   "execution_count": 9,
   "id": "38f7e0f2-8e83-45ad-a220-3184aa2d0658",
   "metadata": {},
   "outputs": [
    {
     "data": {
      "text/plain": [
       "[100, 20, 30, 10, 20, -20]"
      ]
     },
     "execution_count": 9,
     "metadata": {},
     "output_type": "execute_result"
    }
   ],
   "source": [
    "l[-1]=-20\n",
    "l"
   ]
  },
  {
   "cell_type": "code",
   "execution_count": 11,
   "id": "676a9384-8cac-495f-9a40-57d57d22557a",
   "metadata": {},
   "outputs": [
    {
     "data": {
      "text/plain": [
       "[100, 20, 30, 10, 20, -20]"
      ]
     },
     "execution_count": 11,
     "metadata": {},
     "output_type": "execute_result"
    }
   ],
   "source": [
    "l1=l.copy()\n",
    "l1\n"
   ]
  },
  {
   "cell_type": "code",
   "execution_count": null,
   "id": "750dd07e-86b4-4e68-9353-2ddda6e5ddd5",
   "metadata": {},
   "outputs": [],
   "source": []
  },
  {
   "cell_type": "code",
   "execution_count": 12,
   "id": "b427e93c-a0f2-46cf-a8af-5e512c2a9f1d",
   "metadata": {},
   "outputs": [
    {
     "name": "stdout",
     "output_type": "stream",
     "text": [
      "[100, 20, 30, 10, 20, -20]\n",
      "[100, 20, 30, 10, 20, -20]\n"
     ]
    }
   ],
   "source": [
    "print(l)\n",
    "print(l1)"
   ]
  },
  {
   "cell_type": "code",
   "execution_count": 13,
   "id": "0b5a9d10-5265-49ff-911c-6ea1b7944a41",
   "metadata": {},
   "outputs": [
    {
     "data": {
      "text/plain": [
       "True"
      ]
     },
     "execution_count": 13,
     "metadata": {},
     "output_type": "execute_result"
    }
   ],
   "source": [
    "l==l1"
   ]
  },
  {
   "cell_type": "code",
   "execution_count": 14,
   "id": "185e7e7a-5645-440b-9ca3-a628704aba91",
   "metadata": {},
   "outputs": [
    {
     "data": {
      "text/plain": [
       "False"
      ]
     },
     "execution_count": 14,
     "metadata": {},
     "output_type": "execute_result"
    }
   ],
   "source": [
    "id(l)==id(l1)"
   ]
  },
  {
   "cell_type": "code",
   "execution_count": 15,
   "id": "4b977f28-008e-49c0-846f-5ce7136e7db0",
   "metadata": {},
   "outputs": [
    {
     "data": {
      "text/plain": [
       "True"
      ]
     },
     "execution_count": 15,
     "metadata": {},
     "output_type": "execute_result"
    }
   ],
   "source": [
    "id(l)!=id(l1)"
   ]
  },
  {
   "cell_type": "code",
   "execution_count": 16,
   "id": "7cc3c752-3147-4dcd-b13a-047496b7532c",
   "metadata": {},
   "outputs": [
    {
     "data": {
      "text/plain": [
       "2"
      ]
     },
     "execution_count": 16,
     "metadata": {},
     "output_type": "execute_result"
    }
   ],
   "source": [
    "l.count(20)"
   ]
  },
  {
   "cell_type": "code",
   "execution_count": 18,
   "id": "4fbda48d-d047-4606-9aa5-dae64b49ed13",
   "metadata": {},
   "outputs": [
    {
     "data": {
      "text/plain": [
       "[100, 20, 30, 10, 20, -20, 20, 20]"
      ]
     },
     "execution_count": 18,
     "metadata": {},
     "output_type": "execute_result"
    }
   ],
   "source": [
    "l.append(20)\n",
    "l"
   ]
  },
  {
   "cell_type": "code",
   "execution_count": 22,
   "id": "d44feef5-3c47-46ca-aae8-47b7dbb9a667",
   "metadata": {},
   "outputs": [
    {
     "data": {
      "text/plain": [
       "[]"
      ]
     },
     "execution_count": 22,
     "metadata": {},
     "output_type": "execute_result"
    }
   ],
   "source": [
    "len(l1)\n",
    "l1"
   ]
  },
  {
   "cell_type": "code",
   "execution_count": 20,
   "id": "3c1d853b-c736-415c-b7a3-3e026c32f31a",
   "metadata": {},
   "outputs": [
    {
     "data": {
      "text/plain": [
       "[]"
      ]
     },
     "execution_count": 20,
     "metadata": {},
     "output_type": "execute_result"
    }
   ],
   "source": [
    "l1.clear()\n",
    "l1"
   ]
  },
  {
   "cell_type": "code",
   "execution_count": 23,
   "id": "a5da5629-d1ae-42db-af97-103864b09e1b",
   "metadata": {},
   "outputs": [
    {
     "data": {
      "text/plain": [
       "[100, 20, 30, 10, 20, -20, 20, 20]"
      ]
     },
     "execution_count": 23,
     "metadata": {},
     "output_type": "execute_result"
    }
   ],
   "source": [
    "l"
   ]
  },
  {
   "cell_type": "code",
   "execution_count": null,
   "id": "c2319c52-d2e0-44e1-81b4-4fdb9bfd14da",
   "metadata": {},
   "outputs": [],
   "source": [
    "l2=[]"
   ]
  },
  {
   "cell_type": "code",
   "execution_count": 26,
   "id": "4708bee2-168a-49a7-90a4-36942ad8cf5a",
   "metadata": {},
   "outputs": [
    {
     "data": {
      "text/plain": [
       "[9, 'nit', True, 2.6, '10+29j']"
      ]
     },
     "execution_count": 26,
     "metadata": {},
     "output_type": "execute_result"
    }
   ],
   "source": [
    "l2=[]\n",
    "l2.append(9)\n",
    "l2.append('nit')\n",
    "l2.append(True)\n",
    "l2.append(2.6)\n",
    "l2.append('10+29j')\n",
    "l2"
   ]
  },
  {
   "cell_type": "code",
   "execution_count": 27,
   "id": "abfe0fcf-bf2a-49ba-81fe-bcb01679101f",
   "metadata": {},
   "outputs": [
    {
     "data": {
      "text/plain": [
       "0"
      ]
     },
     "execution_count": 27,
     "metadata": {},
     "output_type": "execute_result"
    }
   ],
   "source": [
    "l.index(100)"
   ]
  },
  {
   "cell_type": "code",
   "execution_count": 28,
   "id": "ac28102a-ba62-46a4-8102-7bac4614c569",
   "metadata": {},
   "outputs": [
    {
     "data": {
      "text/plain": [
       "1"
      ]
     },
     "execution_count": 28,
     "metadata": {},
     "output_type": "execute_result"
    }
   ],
   "source": [
    "l.index(20)"
   ]
  },
  {
   "cell_type": "code",
   "execution_count": 29,
   "id": "26681da0-ed9a-4d27-8343-2e8daf21c4ce",
   "metadata": {},
   "outputs": [
    {
     "data": {
      "text/plain": [
       "'nit'"
      ]
     },
     "execution_count": 29,
     "metadata": {},
     "output_type": "execute_result"
    }
   ],
   "source": [
    "l2[1]"
   ]
  },
  {
   "cell_type": "code",
   "execution_count": 30,
   "id": "6b12f843-b5e9-42eb-8e1b-ae6d31e98622",
   "metadata": {},
   "outputs": [
    {
     "data": {
      "text/plain": [
       "'n'"
      ]
     },
     "execution_count": 30,
     "metadata": {},
     "output_type": "execute_result"
    }
   ],
   "source": [
    "l2[1][0]"
   ]
  },
  {
   "cell_type": "code",
   "execution_count": 31,
   "id": "7fb95800-5695-4d73-9146-7a710e711a76",
   "metadata": {},
   "outputs": [
    {
     "name": "stdout",
     "output_type": "stream",
     "text": [
      "n\n"
     ]
    }
   ],
   "source": [
    "print(l2[1][0])"
   ]
  },
  {
   "cell_type": "code",
   "execution_count": 34,
   "id": "8721fe06-9ccf-4857-904e-ba7ecf32fdda",
   "metadata": {},
   "outputs": [
    {
     "name": "stdout",
     "output_type": "stream",
     "text": [
      "i\n"
     ]
    }
   ],
   "source": [
    "print(l2[1][1])"
   ]
  },
  {
   "cell_type": "code",
   "execution_count": 35,
   "id": "86198653-f684-4108-8437-b7f166154b5b",
   "metadata": {},
   "outputs": [
    {
     "data": {
      "text/plain": [
       "[100, 20, 30, 10, 20, -20, 20, 20]"
      ]
     },
     "execution_count": 35,
     "metadata": {},
     "output_type": "execute_result"
    }
   ],
   "source": [
    "l[:]   #slicing"
   ]
  },
  {
   "cell_type": "code",
   "execution_count": 36,
   "id": "18330768-e107-4f2e-aad2-aa67903dec7c",
   "metadata": {},
   "outputs": [
    {
     "data": {
      "text/plain": [
       "[10, 20, -20, 20, 20]"
      ]
     },
     "execution_count": 36,
     "metadata": {},
     "output_type": "execute_result"
    }
   ],
   "source": [
    "l[3:]"
   ]
  },
  {
   "cell_type": "code",
   "execution_count": 37,
   "id": "2a6398e5-3861-494d-af41-994e5b57e536",
   "metadata": {},
   "outputs": [
    {
     "data": {
      "text/plain": [
       "[100, 20, 30, 10, 20]"
      ]
     },
     "execution_count": 37,
     "metadata": {},
     "output_type": "execute_result"
    }
   ],
   "source": [
    "l[:5]"
   ]
  },
  {
   "cell_type": "code",
   "execution_count": 38,
   "id": "7e4ea645-64b8-413e-909a-a79524dedb53",
   "metadata": {},
   "outputs": [
    {
     "data": {
      "text/plain": [
       "[100, 20, 30, 10, 20, -20, 20, 20]"
      ]
     },
     "execution_count": 38,
     "metadata": {},
     "output_type": "execute_result"
    }
   ],
   "source": [
    "l"
   ]
  },
  {
   "cell_type": "code",
   "execution_count": 39,
   "id": "2ff7e7be-59e2-48d2-85b3-9ad7d1f8b6a0",
   "metadata": {},
   "outputs": [
    {
     "data": {
      "text/plain": [
       "[100, 10, 20]"
      ]
     },
     "execution_count": 39,
     "metadata": {},
     "output_type": "execute_result"
    }
   ],
   "source": [
    "l[0:8:3]"
   ]
  },
  {
   "cell_type": "code",
   "execution_count": 40,
   "id": "6b7c066a-8a49-44ae-88c4-d3d3ec0c11e4",
   "metadata": {},
   "outputs": [
    {
     "data": {
      "text/plain": [
       "['nit', 2.6]"
      ]
     },
     "execution_count": 40,
     "metadata": {},
     "output_type": "execute_result"
    }
   ],
   "source": [
    "l2[1:6:2]"
   ]
  },
  {
   "cell_type": "code",
   "execution_count": 41,
   "id": "98b720bf-efb0-45af-bba9-ea41c78aa31e",
   "metadata": {},
   "outputs": [
    {
     "data": {
      "text/plain": [
       "[100, 20, 30, 10, 20, -20, 20, 20]"
      ]
     },
     "execution_count": 41,
     "metadata": {},
     "output_type": "execute_result"
    }
   ],
   "source": [
    "l"
   ]
  },
  {
   "cell_type": "code",
   "execution_count": 43,
   "id": "ab15c9f9-5bdd-48ce-9c3f-bbd6dda046a5",
   "metadata": {},
   "outputs": [
    {
     "data": {
      "text/plain": [
       "[100, 20, 25, 25, 30, 10, 20, -20, 20, 20]"
      ]
     },
     "execution_count": 43,
     "metadata": {},
     "output_type": "execute_result"
    }
   ],
   "source": [
    "l.insert(2,25)   #2nd is index position 15 is call value\n",
    "l"
   ]
  },
  {
   "cell_type": "code",
   "execution_count": 44,
   "id": "cdeb98e5-a540-4db0-b060-52501f644b90",
   "metadata": {},
   "outputs": [
    {
     "data": {
      "text/plain": [
       "20"
      ]
     },
     "execution_count": 44,
     "metadata": {},
     "output_type": "execute_result"
    }
   ],
   "source": [
    "l.pop()  #index level remove the element call pop"
   ]
  },
  {
   "cell_type": "code",
   "execution_count": 45,
   "id": "20284097-1db5-40f4-b2f5-18844992e8dc",
   "metadata": {},
   "outputs": [
    {
     "data": {
      "text/plain": [
       "20"
      ]
     },
     "execution_count": 45,
     "metadata": {},
     "output_type": "execute_result"
    }
   ],
   "source": [
    "l.pop()"
   ]
  },
  {
   "cell_type": "code",
   "execution_count": 46,
   "id": "5d8f0570-e247-49fc-b3b5-6a743a063efa",
   "metadata": {},
   "outputs": [
    {
     "data": {
      "text/plain": [
       "-20"
      ]
     },
     "execution_count": 46,
     "metadata": {},
     "output_type": "execute_result"
    }
   ],
   "source": [
    "l.pop()"
   ]
  },
  {
   "cell_type": "code",
   "execution_count": 47,
   "id": "7382d28a-0424-4d43-b9bd-be7f1b2532ff",
   "metadata": {},
   "outputs": [
    {
     "data": {
      "text/plain": [
       "[100, 20, 25, 25, 30, 10, 20]"
      ]
     },
     "execution_count": 47,
     "metadata": {},
     "output_type": "execute_result"
    }
   ],
   "source": [
    "l"
   ]
  },
  {
   "cell_type": "code",
   "execution_count": 48,
   "id": "f3aa3567-0b33-4728-bff6-a285415fcc4a",
   "metadata": {},
   "outputs": [
    {
     "data": {
      "text/plain": [
       "[9, 'nit', True, 2.6, '10+29j']"
      ]
     },
     "execution_count": 48,
     "metadata": {},
     "output_type": "execute_result"
    }
   ],
   "source": [
    "l2"
   ]
  },
  {
   "cell_type": "code",
   "execution_count": 49,
   "id": "baea294e-3d77-481e-9e68-b8a0349a95ff",
   "metadata": {},
   "outputs": [
    {
     "data": {
      "text/plain": [
       "2.6"
      ]
     },
     "execution_count": 49,
     "metadata": {},
     "output_type": "execute_result"
    }
   ],
   "source": [
    "l2.pop(3)"
   ]
  },
  {
   "cell_type": "code",
   "execution_count": 50,
   "id": "ca37cf5c-88f9-4d89-919b-da7e0a014556",
   "metadata": {},
   "outputs": [
    {
     "data": {
      "text/plain": [
       "[9, 'nit', True, '10+29j']"
      ]
     },
     "execution_count": 50,
     "metadata": {},
     "output_type": "execute_result"
    }
   ],
   "source": [
    "l2"
   ]
  },
  {
   "cell_type": "code",
   "execution_count": null,
   "id": "10c31664-acbb-4431-91af-e18373f2b2da",
   "metadata": {},
   "outputs": [],
   "source": [
    "#pop()------remove the element or value from the list by index level"
   ]
  },
  {
   "cell_type": "code",
   "execution_count": null,
   "id": "44d27a49-824f-40e7-af2f-77ee835534dc",
   "metadata": {},
   "outputs": [],
   "source": [
    "#remove----remove the element by entire list value"
   ]
  },
  {
   "cell_type": "code",
   "execution_count": null,
   "id": "29a19735-ba02-4ace-950b-f6929547f1e1",
   "metadata": {},
   "outputs": [],
   "source": [
    "#append----add the element at last"
   ]
  },
  {
   "cell_type": "code",
   "execution_count": null,
   "id": "44831ad5-fe3a-4d47-897e-1e490b68feab",
   "metadata": {},
   "outputs": [],
   "source": [
    "#insert----insert the number before index"
   ]
  },
  {
   "cell_type": "code",
   "execution_count": 1,
   "id": "2740fded-3550-490e-aa88-c8d408c38e54",
   "metadata": {},
   "outputs": [
    {
     "data": {
      "text/plain": [
       "'abc dfg hij'"
      ]
     },
     "execution_count": 1,
     "metadata": {},
     "output_type": "execute_result"
    }
   ],
   "source": [
    "txt =\"abc dfg hij\"\n",
    "txt.lstrip()"
   ]
  },
  {
   "cell_type": "code",
   "execution_count": 4,
   "id": "78f02264-29f4-4ecc-8a8d-a28994f22c53",
   "metadata": {},
   "outputs": [],
   "source": [
    "list1=[]"
   ]
  },
  {
   "cell_type": "code",
   "execution_count": 5,
   "id": "f41aa24c-7f8d-462a-b7af-3e5d172ba3a3",
   "metadata": {},
   "outputs": [
    {
     "name": "stdout",
     "output_type": "stream",
     "text": [
      "<class 'list'>\n"
     ]
    }
   ],
   "source": [
    "print(type(list1))"
   ]
  },
  {
   "cell_type": "code",
   "execution_count": 7,
   "id": "9f5f5874-a3a9-41c2-b75c-a5a85f5cd463",
   "metadata": {},
   "outputs": [
    {
     "data": {
      "text/plain": [
       "[10, 20, 30]"
      ]
     },
     "execution_count": 7,
     "metadata": {},
     "output_type": "execute_result"
    }
   ],
   "source": [
    "list2=[10,20,30]   #list of integers\n",
    "list2"
   ]
  },
  {
   "cell_type": "code",
   "execution_count": 8,
   "id": "a1c751a4-02a7-4098-88d7-f07eeef002ae",
   "metadata": {},
   "outputs": [
    {
     "data": {
      "text/plain": [
       "[10.2, 5.5, 2.0, 3.6, 5.7]"
      ]
     },
     "execution_count": 8,
     "metadata": {},
     "output_type": "execute_result"
    }
   ],
   "source": [
    "list3 = [ 10.2, 5.5, 2.0, 3.6,5.7]\n",
    "list3\n"
   ]
  },
  {
   "cell_type": "code",
   "execution_count": 9,
   "id": "addeed0f-7a98-4b9a-bf75-fd663bac53c4",
   "metadata": {},
   "outputs": [
    {
     "data": {
      "text/plain": [
       "[10.2, 10.2, 10.2, 10.2]"
      ]
     },
     "execution_count": 9,
     "metadata": {},
     "output_type": "execute_result"
    }
   ],
   "source": [
    "list4 = [10.2,10.2, 10.2, 10.2]\n",
    "list4"
   ]
  },
  {
   "cell_type": "code",
   "execution_count": 10,
   "id": "80186ba9-71b7-4ada-80bf-78162edf7f90",
   "metadata": {},
   "outputs": [
    {
     "data": {
      "text/plain": [
       "['shubh', 'rani', 'raj', 'abhii']"
      ]
     },
     "execution_count": 10,
     "metadata": {},
     "output_type": "execute_result"
    }
   ],
   "source": [
    "list4 = ['shubh', 'rani', 'raj', 'abhii']\n",
    "list4"
   ]
  },
  {
   "cell_type": "code",
   "execution_count": 11,
   "id": "ddcd404b-af5b-4daf-b10d-9a32a7cc33f3",
   "metadata": {},
   "outputs": [
    {
     "data": {
      "text/plain": [
       "[30, 'abhii', 20.45, '10']"
      ]
     },
     "execution_count": 11,
     "metadata": {},
     "output_type": "execute_result"
    }
   ],
   "source": [
    "list5 = [30,'abhii', 20.45, '10']\n",
    "list5"
   ]
  },
  {
   "cell_type": "code",
   "execution_count": 12,
   "id": "3273a140-1409-4dde-bfc9-3a6f5a80c532",
   "metadata": {},
   "outputs": [
    {
     "data": {
      "text/plain": [
       "[10, [10.5, 20], 20.6, [30.2, 20, 'nit']]"
      ]
     },
     "execution_count": 12,
     "metadata": {},
     "output_type": "execute_result"
    }
   ],
   "source": [
    "list6= [10,[10.5,20],20.6,[30.2,20,'nit']]\n",
    "list6"
   ]
  },
  {
   "cell_type": "code",
   "execution_count": 13,
   "id": "8ec8aece-2e45-49a1-bedb-992269a56425",
   "metadata": {},
   "outputs": [
    {
     "data": {
      "text/plain": [
       "4"
      ]
     },
     "execution_count": 13,
     "metadata": {},
     "output_type": "execute_result"
    }
   ],
   "source": [
    "len(list6)"
   ]
  },
  {
   "cell_type": "code",
   "execution_count": 14,
   "id": "dd51d255-505c-4677-94fb-64b49296e1ee",
   "metadata": {},
   "outputs": [
    {
     "data": {
      "text/plain": [
       "4"
      ]
     },
     "execution_count": 14,
     "metadata": {},
     "output_type": "execute_result"
    }
   ],
   "source": [
    "len(list5)"
   ]
  },
  {
   "cell_type": "code",
   "execution_count": 15,
   "id": "ac1f68e1-5b4c-4eea-9d10-d7a8dac0426d",
   "metadata": {},
   "outputs": [
    {
     "data": {
      "text/plain": [
       "4"
      ]
     },
     "execution_count": 15,
     "metadata": {},
     "output_type": "execute_result"
    }
   ],
   "source": [
    "len(list4)"
   ]
  },
  {
   "cell_type": "code",
   "execution_count": 16,
   "id": "93ec768f-90d1-4da0-a7f5-a5945059bbbe",
   "metadata": {},
   "outputs": [
    {
     "data": {
      "text/plain": [
       "10"
      ]
     },
     "execution_count": 16,
     "metadata": {},
     "output_type": "execute_result"
    }
   ],
   "source": [
    "list6[0]"
   ]
  },
  {
   "cell_type": "code",
   "execution_count": 17,
   "id": "66b5fc52-2efd-47b8-8a48-41acc12045c8",
   "metadata": {},
   "outputs": [
    {
     "data": {
      "text/plain": [
       "[10.5, 20]"
      ]
     },
     "execution_count": 17,
     "metadata": {},
     "output_type": "execute_result"
    }
   ],
   "source": [
    "list6[1]"
   ]
  },
  {
   "cell_type": "code",
   "execution_count": 19,
   "id": "9daae89b-0bba-4eab-9995-676457f727b8",
   "metadata": {},
   "outputs": [
    {
     "data": {
      "text/plain": [
       "[10.5, 20]"
      ]
     },
     "execution_count": 19,
     "metadata": {},
     "output_type": "execute_result"
    }
   ],
   "source": [
    "list6[1]"
   ]
  },
  {
   "cell_type": "code",
   "execution_count": 20,
   "id": "a6bea7de-d357-49e9-ae2b-66ed8e40b761",
   "metadata": {},
   "outputs": [
    {
     "data": {
      "text/plain": [
       "20.6"
      ]
     },
     "execution_count": 20,
     "metadata": {},
     "output_type": "execute_result"
    }
   ],
   "source": [
    "list6[2]"
   ]
  },
  {
   "cell_type": "code",
   "execution_count": 21,
   "id": "3af3e419-f560-4f61-897a-24cb5f3b2605",
   "metadata": {},
   "outputs": [
    {
     "data": {
      "text/plain": [
       "[30.2, 20, 'nit']"
      ]
     },
     "execution_count": 21,
     "metadata": {},
     "output_type": "execute_result"
    }
   ],
   "source": [
    "list6[3]"
   ]
  },
  {
   "cell_type": "code",
   "execution_count": 22,
   "id": "d3028b00-315e-456a-85c4-455b7e04939f",
   "metadata": {},
   "outputs": [
    {
     "ename": "IndexError",
     "evalue": "list index out of range",
     "output_type": "error",
     "traceback": [
      "\u001b[1;31m---------------------------------------------------------------------------\u001b[0m",
      "\u001b[1;31mIndexError\u001b[0m                                Traceback (most recent call last)",
      "Cell \u001b[1;32mIn[22], line 1\u001b[0m\n\u001b[1;32m----> 1\u001b[0m list6[\u001b[38;5;241m4\u001b[39m]\n",
      "\u001b[1;31mIndexError\u001b[0m: list index out of range"
     ]
    }
   ],
   "source": [
    "list6[4]"
   ]
  },
  {
   "cell_type": "code",
   "execution_count": 23,
   "id": "c43a0acc-49a3-461d-9585-719a9bf75ced",
   "metadata": {},
   "outputs": [
    {
     "data": {
      "text/plain": [
       "30"
      ]
     },
     "execution_count": 23,
     "metadata": {},
     "output_type": "execute_result"
    }
   ],
   "source": [
    "list5[0]"
   ]
  },
  {
   "cell_type": "code",
   "execution_count": 24,
   "id": "6ebe01ea-05b8-45d1-8dc3-92a955f7ad17",
   "metadata": {},
   "outputs": [
    {
     "data": {
      "text/plain": [
       "'abhii'"
      ]
     },
     "execution_count": 24,
     "metadata": {},
     "output_type": "execute_result"
    }
   ],
   "source": [
    "list5[1]"
   ]
  },
  {
   "cell_type": "code",
   "execution_count": 25,
   "id": "f24d6471-bb49-4527-b0bd-b09995d51341",
   "metadata": {},
   "outputs": [
    {
     "data": {
      "text/plain": [
       "20.45"
      ]
     },
     "execution_count": 25,
     "metadata": {},
     "output_type": "execute_result"
    }
   ],
   "source": [
    "list5[2]"
   ]
  },
  {
   "cell_type": "code",
   "execution_count": 26,
   "id": "bfc938c0-1052-4688-9714-a040c131ee17",
   "metadata": {},
   "outputs": [
    {
     "data": {
      "text/plain": [
       "list[3]"
      ]
     },
     "execution_count": 26,
     "metadata": {},
     "output_type": "execute_result"
    }
   ],
   "source": [
    "list[3]"
   ]
  },
  {
   "cell_type": "code",
   "execution_count": 28,
   "id": "fa63f5e7-ecf2-49c7-9b3f-d0b2a8b06a5c",
   "metadata": {},
   "outputs": [
    {
     "ename": "IndexError",
     "evalue": "list index out of range",
     "output_type": "error",
     "traceback": [
      "\u001b[1;31m---------------------------------------------------------------------------\u001b[0m",
      "\u001b[1;31mIndexError\u001b[0m                                Traceback (most recent call last)",
      "Cell \u001b[1;32mIn[28], line 1\u001b[0m\n\u001b[1;32m----> 1\u001b[0m list5[\u001b[38;5;241m3\u001b[39m]\n",
      "\u001b[1;31mIndexError\u001b[0m: list index out of range"
     ]
    }
   ],
   "source": [
    "list5[3]"
   ]
  },
  {
   "cell_type": "code",
   "execution_count": 29,
   "id": "0c4469b3-96d4-43a6-af7d-c472d07be1e1",
   "metadata": {},
   "outputs": [
    {
     "data": {
      "text/plain": [
       "'shubh'"
      ]
     },
     "execution_count": 29,
     "metadata": {},
     "output_type": "execute_result"
    }
   ],
   "source": [
    "list4[0]"
   ]
  },
  {
   "cell_type": "code",
   "execution_count": 30,
   "id": "c53d8e78-4c7c-42c8-b14d-a4a786e8d03c",
   "metadata": {},
   "outputs": [
    {
     "data": {
      "text/plain": [
       "list[1]"
      ]
     },
     "execution_count": 30,
     "metadata": {},
     "output_type": "execute_result"
    }
   ],
   "source": [
    "list[1]"
   ]
  },
  {
   "cell_type": "code",
   "execution_count": 31,
   "id": "59888d90-262a-4525-8784-7d4b5a0cd940",
   "metadata": {},
   "outputs": [
    {
     "data": {
      "text/plain": [
       "'rani'"
      ]
     },
     "execution_count": 31,
     "metadata": {},
     "output_type": "execute_result"
    }
   ],
   "source": [
    "list4[1]"
   ]
  },
  {
   "cell_type": "code",
   "execution_count": 32,
   "id": "d96c176b-8376-46e7-8d11-658efd53c786",
   "metadata": {},
   "outputs": [
    {
     "data": {
      "text/plain": [
       "'raj'"
      ]
     },
     "execution_count": 32,
     "metadata": {},
     "output_type": "execute_result"
    }
   ],
   "source": [
    "list4[2\n",
    "]"
   ]
  },
  {
   "cell_type": "code",
   "execution_count": 33,
   "id": "6d308782-78bc-4b2d-aed4-0ebc3e420b93",
   "metadata": {},
   "outputs": [
    {
     "data": {
      "text/plain": [
       "'abhii'"
      ]
     },
     "execution_count": 33,
     "metadata": {},
     "output_type": "execute_result"
    }
   ],
   "source": [
    "list4[3]"
   ]
  },
  {
   "cell_type": "code",
   "execution_count": 34,
   "id": "2c3f4ea6-ccd7-4165-96ac-a4ecd4b110a4",
   "metadata": {},
   "outputs": [
    {
     "ename": "TypeError",
     "evalue": "list indices must be integers or slices, not tuple",
     "output_type": "error",
     "traceback": [
      "\u001b[1;31m---------------------------------------------------------------------------\u001b[0m",
      "\u001b[1;31mTypeError\u001b[0m                                 Traceback (most recent call last)",
      "Cell \u001b[1;32mIn[34], line 1\u001b[0m\n\u001b[1;32m----> 1\u001b[0m list6[\u001b[38;5;241m0\u001b[39m,\u001b[38;5;241m0\u001b[39m]\n",
      "\u001b[1;31mTypeError\u001b[0m: list indices must be integers or slices, not tuple"
     ]
    }
   ],
   "source": [
    "list6[0,0]"
   ]
  },
  {
   "cell_type": "code",
   "execution_count": 35,
   "id": "e11eb3b0-8ca7-4536-825f-439315a4cf57",
   "metadata": {},
   "outputs": [
    {
     "data": {
      "text/plain": [
       "[30.2, 20, 'nit']"
      ]
     },
     "execution_count": 35,
     "metadata": {},
     "output_type": "execute_result"
    }
   ],
   "source": [
    "list6[-1\n",
    "]"
   ]
  },
  {
   "cell_type": "code",
   "execution_count": 36,
   "id": "36ded5d9-e800-4ff7-a44b-fa81a5d31502",
   "metadata": {},
   "outputs": [
    {
     "data": {
      "text/plain": [
       "20.6"
      ]
     },
     "execution_count": 36,
     "metadata": {},
     "output_type": "execute_result"
    }
   ],
   "source": [
    "list6[-2]"
   ]
  },
  {
   "cell_type": "code",
   "execution_count": 40,
   "id": "3fee52e4-490a-4abf-866a-5fd40e1f4632",
   "metadata": {},
   "outputs": [
    {
     "data": {
      "text/plain": [
       "['one', 'two', 'three', 'four', 'five', 'six', 'seven', 'eight']"
      ]
     },
     "execution_count": 40,
     "metadata": {},
     "output_type": "execute_result"
    }
   ],
   "source": [
    "mylist = ['one', 'two', 'three', 'four', 'five','six', 'seven','eight']\n",
    "mylist"
   ]
  },
  {
   "cell_type": "code",
   "execution_count": 41,
   "id": "85f7ea85-57ea-43e2-b41a-315c840a18a7",
   "metadata": {},
   "outputs": [
    {
     "data": {
      "text/plain": [
       "['one']"
      ]
     },
     "execution_count": 41,
     "metadata": {},
     "output_type": "execute_result"
    }
   ],
   "source": [
    "mylist[0:1]"
   ]
  },
  {
   "cell_type": "code",
   "execution_count": 42,
   "id": "f95ca28c-c602-44db-90c5-09796f44c8f7",
   "metadata": {},
   "outputs": [
    {
     "data": {
      "text/plain": [
       "['one', 'two']"
      ]
     },
     "execution_count": 42,
     "metadata": {},
     "output_type": "execute_result"
    }
   ],
   "source": [
    "mylist[0:2]"
   ]
  },
  {
   "cell_type": "code",
   "execution_count": 43,
   "id": "a6e34b69-009b-44ec-9cd1-17ea7c149efd",
   "metadata": {},
   "outputs": [
    {
     "data": {
      "text/plain": [
       "['one', 'two', 'three']"
      ]
     },
     "execution_count": 43,
     "metadata": {},
     "output_type": "execute_result"
    }
   ],
   "source": [
    "mylist[0:3]"
   ]
  },
  {
   "cell_type": "code",
   "execution_count": 44,
   "id": "4b7b0ebb-5f48-4b7a-bffc-27a027db8cfa",
   "metadata": {},
   "outputs": [
    {
     "data": {
      "text/plain": [
       "['one', 'two', 'three', 'four']"
      ]
     },
     "execution_count": 44,
     "metadata": {},
     "output_type": "execute_result"
    }
   ],
   "source": [
    "mylist[0:4]"
   ]
  },
  {
   "cell_type": "code",
   "execution_count": 45,
   "id": "182a7cf5-b5c4-420a-b083-447c167121d3",
   "metadata": {},
   "outputs": [
    {
     "data": {
      "text/plain": [
       "['one', 'two', 'three', 'four', 'five']"
      ]
     },
     "execution_count": 45,
     "metadata": {},
     "output_type": "execute_result"
    }
   ],
   "source": [
    "mylist[0:5]"
   ]
  },
  {
   "cell_type": "code",
   "execution_count": 46,
   "id": "9358eb43-9beb-4245-b962-96752ea115b6",
   "metadata": {},
   "outputs": [
    {
     "data": {
      "text/plain": [
       "['one', 'two', 'three', 'four', 'five', 'six']"
      ]
     },
     "execution_count": 46,
     "metadata": {},
     "output_type": "execute_result"
    }
   ],
   "source": [
    "mylist[0:6]"
   ]
  },
  {
   "cell_type": "code",
   "execution_count": 47,
   "id": "4ab7199f-7f18-42f3-9ae8-e508cd186a72",
   "metadata": {},
   "outputs": [
    {
     "data": {
      "text/plain": [
       "['one', 'two', 'three', 'four', 'five', 'six', 'seven']"
      ]
     },
     "execution_count": 47,
     "metadata": {},
     "output_type": "execute_result"
    }
   ],
   "source": [
    "mylist[0:7]"
   ]
  },
  {
   "cell_type": "code",
   "execution_count": 48,
   "id": "732e9751-84bc-409d-809d-584ce8f38c51",
   "metadata": {},
   "outputs": [
    {
     "data": {
      "text/plain": [
       "['one', 'two', 'three', 'four', 'five', 'six', 'seven', 'eight']"
      ]
     },
     "execution_count": 48,
     "metadata": {},
     "output_type": "execute_result"
    }
   ],
   "source": [
    "mylist[0:8]"
   ]
  },
  {
   "cell_type": "code",
   "execution_count": 49,
   "id": "03961ffa-0c21-4abc-b8d4-60d909e81382",
   "metadata": {},
   "outputs": [
    {
     "data": {
      "text/plain": [
       "[]"
      ]
     },
     "execution_count": 49,
     "metadata": {},
     "output_type": "execute_result"
    }
   ],
   "source": [
    "mylist[1:0]"
   ]
  },
  {
   "cell_type": "code",
   "execution_count": 50,
   "id": "d1d0f8ee-9298-40ba-b316-e5b71e38afb4",
   "metadata": {},
   "outputs": [
    {
     "data": {
      "text/plain": [
       "[]"
      ]
     },
     "execution_count": 50,
     "metadata": {},
     "output_type": "execute_result"
    }
   ],
   "source": [
    "mylist[1:1]"
   ]
  },
  {
   "cell_type": "code",
   "execution_count": 51,
   "id": "831dd7e2-122e-44a5-8ede-cf7a22efa7b0",
   "metadata": {},
   "outputs": [
    {
     "data": {
      "text/plain": [
       "['two']"
      ]
     },
     "execution_count": 51,
     "metadata": {},
     "output_type": "execute_result"
    }
   ],
   "source": [
    "mylist[1:2]"
   ]
  },
  {
   "cell_type": "code",
   "execution_count": 52,
   "id": "21cf4aa2-9be0-46c1-8e6e-4619f97924c4",
   "metadata": {},
   "outputs": [
    {
     "data": {
      "text/plain": [
       "['two', 'three']"
      ]
     },
     "execution_count": 52,
     "metadata": {},
     "output_type": "execute_result"
    }
   ],
   "source": [
    "mylist[1:3]"
   ]
  },
  {
   "cell_type": "code",
   "execution_count": 53,
   "id": "5b03811c-d470-4da2-8031-1fee91e324f1",
   "metadata": {},
   "outputs": [
    {
     "data": {
      "text/plain": [
       "['two', 'three', 'four']"
      ]
     },
     "execution_count": 53,
     "metadata": {},
     "output_type": "execute_result"
    }
   ],
   "source": [
    "mylist[1:4]"
   ]
  },
  {
   "cell_type": "code",
   "execution_count": 54,
   "id": "21d6c833-d580-481a-b5ec-779fba9f5613",
   "metadata": {},
   "outputs": [
    {
     "data": {
      "text/plain": [
       "['two', 'three', 'four', 'five']"
      ]
     },
     "execution_count": 54,
     "metadata": {},
     "output_type": "execute_result"
    }
   ],
   "source": [
    "mylist[1:5]"
   ]
  },
  {
   "cell_type": "code",
   "execution_count": 55,
   "id": "0f58e68f-0c17-48b2-bcd8-2b7806a31d7e",
   "metadata": {},
   "outputs": [
    {
     "data": {
      "text/plain": [
       "['two', 'three', 'four', 'five', 'six']"
      ]
     },
     "execution_count": 55,
     "metadata": {},
     "output_type": "execute_result"
    }
   ],
   "source": [
    "mylist[1:6]"
   ]
  },
  {
   "cell_type": "code",
   "execution_count": 56,
   "id": "48d9381c-8f25-414a-a03f-aec41d62c4d3",
   "metadata": {},
   "outputs": [
    {
     "data": {
      "text/plain": [
       "['two', 'three', 'four', 'five', 'six', 'seven']"
      ]
     },
     "execution_count": 56,
     "metadata": {},
     "output_type": "execute_result"
    }
   ],
   "source": [
    "mylist[1:7]"
   ]
  },
  {
   "cell_type": "code",
   "execution_count": 57,
   "id": "fb63c487-4816-4e3b-ab3f-0888031d54cb",
   "metadata": {},
   "outputs": [
    {
     "data": {
      "text/plain": [
       "['two', 'three', 'four', 'five', 'six', 'seven', 'eight']"
      ]
     },
     "execution_count": 57,
     "metadata": {},
     "output_type": "execute_result"
    }
   ],
   "source": [
    "mylist[1:8]"
   ]
  },
  {
   "cell_type": "code",
   "execution_count": 58,
   "id": "7fefa7a9-4df8-479b-8a92-c02e83ad7924",
   "metadata": {},
   "outputs": [
    {
     "data": {
      "text/plain": [
       "[]"
      ]
     },
     "execution_count": 58,
     "metadata": {},
     "output_type": "execute_result"
    }
   ],
   "source": [
    "mylist[2:0]"
   ]
  },
  {
   "cell_type": "code",
   "execution_count": 59,
   "id": "fc324f49-72f5-4b9e-8561-0b7fa2335be9",
   "metadata": {},
   "outputs": [
    {
     "data": {
      "text/plain": [
       "['three']"
      ]
     },
     "execution_count": 59,
     "metadata": {},
     "output_type": "execute_result"
    }
   ],
   "source": [
    "mylist[2:3]"
   ]
  },
  {
   "cell_type": "code",
   "execution_count": 60,
   "id": "54961417-9198-4d9a-8b09-56ebd8a6f037",
   "metadata": {},
   "outputs": [
    {
     "data": {
      "text/plain": [
       "['three', 'four']"
      ]
     },
     "execution_count": 60,
     "metadata": {},
     "output_type": "execute_result"
    }
   ],
   "source": [
    "mylist[2:4]"
   ]
  },
  {
   "cell_type": "code",
   "execution_count": 61,
   "id": "b243f6a9-e96c-49d8-9d7f-02198fb001d2",
   "metadata": {},
   "outputs": [
    {
     "data": {
      "text/plain": [
       "['three', 'four', 'five']"
      ]
     },
     "execution_count": 61,
     "metadata": {},
     "output_type": "execute_result"
    }
   ],
   "source": [
    "mylist[2:5]"
   ]
  },
  {
   "cell_type": "code",
   "execution_count": 62,
   "id": "bd8bde9d-9783-4d6d-b355-ff00470cbe8b",
   "metadata": {},
   "outputs": [
    {
     "data": {
      "text/plain": [
       "['three', 'four', 'five', 'six']"
      ]
     },
     "execution_count": 62,
     "metadata": {},
     "output_type": "execute_result"
    }
   ],
   "source": [
    "mylist[2:6]"
   ]
  },
  {
   "cell_type": "code",
   "execution_count": 63,
   "id": "9dd0c4d5-d218-4915-8da0-7c2d5ae85d4f",
   "metadata": {},
   "outputs": [
    {
     "data": {
      "text/plain": [
       "['three', 'four', 'five', 'six', 'seven']"
      ]
     },
     "execution_count": 63,
     "metadata": {},
     "output_type": "execute_result"
    }
   ],
   "source": [
    "mylist[2:7]"
   ]
  },
  {
   "cell_type": "code",
   "execution_count": 64,
   "id": "d052666f-905f-4d5e-b533-cddbc6eed9bc",
   "metadata": {},
   "outputs": [
    {
     "data": {
      "text/plain": [
       "['three', 'four', 'five', 'six', 'seven', 'eight']"
      ]
     },
     "execution_count": 64,
     "metadata": {},
     "output_type": "execute_result"
    }
   ],
   "source": [
    "mylist[2:8]"
   ]
  },
  {
   "cell_type": "code",
   "execution_count": 65,
   "id": "169be29c-0f25-44b9-a616-389337afb106",
   "metadata": {},
   "outputs": [
    {
     "data": {
      "text/plain": [
       "['four']"
      ]
     },
     "execution_count": 65,
     "metadata": {},
     "output_type": "execute_result"
    }
   ],
   "source": [
    "mylist[3:4]"
   ]
  },
  {
   "cell_type": "code",
   "execution_count": 66,
   "id": "a16e113d-0c52-41f5-a4a6-d0646ad5d5a2",
   "metadata": {},
   "outputs": [
    {
     "data": {
      "text/plain": [
       "['one']"
      ]
     },
     "execution_count": 66,
     "metadata": {},
     "output_type": "execute_result"
    }
   ],
   "source": [
    "mylist[:1]"
   ]
  },
  {
   "cell_type": "code",
   "execution_count": 67,
   "id": "a53a71fa-acf5-421f-af4a-51e536836bbb",
   "metadata": {},
   "outputs": [
    {
     "data": {
      "text/plain": [
       "[]"
      ]
     },
     "execution_count": 67,
     "metadata": {},
     "output_type": "execute_result"
    }
   ],
   "source": [
    "mylist[:0]"
   ]
  },
  {
   "cell_type": "code",
   "execution_count": 68,
   "id": "11181e7d-dcbf-4ca2-a4dd-d8e650607dab",
   "metadata": {},
   "outputs": [
    {
     "data": {
      "text/plain": [
       "'three'"
      ]
     },
     "execution_count": 68,
     "metadata": {},
     "output_type": "execute_result"
    }
   ],
   "source": [
    "mylist[2]"
   ]
  },
  {
   "cell_type": "code",
   "execution_count": 69,
   "id": "bec1e2b5-2ae0-4096-b5de-74dcddf02ba6",
   "metadata": {},
   "outputs": [
    {
     "data": {
      "text/plain": [
       "'four'"
      ]
     },
     "execution_count": 69,
     "metadata": {},
     "output_type": "execute_result"
    }
   ],
   "source": [
    "mylist[3]"
   ]
  },
  {
   "cell_type": "code",
   "execution_count": 70,
   "id": "ba747a15-1a60-4181-9f7e-ee2eb6139138",
   "metadata": {},
   "outputs": [
    {
     "data": {
      "text/plain": [
       "'five'"
      ]
     },
     "execution_count": 70,
     "metadata": {},
     "output_type": "execute_result"
    }
   ],
   "source": [
    "mylist[4]"
   ]
  },
  {
   "cell_type": "code",
   "execution_count": 71,
   "id": "f2fcd22f-366a-459c-bf65-696275da5e82",
   "metadata": {},
   "outputs": [
    {
     "data": {
      "text/plain": [
       "['one', 'two', 'three', 'four']"
      ]
     },
     "execution_count": 71,
     "metadata": {},
     "output_type": "execute_result"
    }
   ],
   "source": [
    "mylist[:4]"
   ]
  },
  {
   "cell_type": "code",
   "execution_count": 72,
   "id": "bab3d324-4515-426f-8816-1c5f238acae5",
   "metadata": {},
   "outputs": [
    {
     "data": {
      "text/plain": [
       "['one', 'two']"
      ]
     },
     "execution_count": 72,
     "metadata": {},
     "output_type": "execute_result"
    }
   ],
   "source": [
    "mylist[:2]"
   ]
  },
  {
   "cell_type": "code",
   "execution_count": 73,
   "id": "c30779da-b8b7-4911-9226-a2caaa879418",
   "metadata": {},
   "outputs": [
    {
     "data": {
      "text/plain": [
       "['one', 'two', 'three']"
      ]
     },
     "execution_count": 73,
     "metadata": {},
     "output_type": "execute_result"
    }
   ],
   "source": [
    "mylist[:3]"
   ]
  },
  {
   "cell_type": "code",
   "execution_count": 74,
   "id": "5e1112dd-b822-40cb-bcec-5188e7050b46",
   "metadata": {},
   "outputs": [
    {
     "data": {
      "text/plain": [
       "['one', 'two', 'three', 'four']"
      ]
     },
     "execution_count": 74,
     "metadata": {},
     "output_type": "execute_result"
    }
   ],
   "source": [
    "mylist[:4]"
   ]
  },
  {
   "cell_type": "code",
   "execution_count": 75,
   "id": "995e598c-15df-40d6-9fbd-d6f51ed6dea7",
   "metadata": {},
   "outputs": [
    {
     "data": {
      "text/plain": [
       "['one', 'two', 'three', 'four', 'five']"
      ]
     },
     "execution_count": 75,
     "metadata": {},
     "output_type": "execute_result"
    }
   ],
   "source": [
    "mylist[:5]"
   ]
  },
  {
   "cell_type": "code",
   "execution_count": 76,
   "id": "9c59cc3c-6ad4-4f2d-b2cf-7c8a3a7e81d3",
   "metadata": {},
   "outputs": [
    {
     "data": {
      "text/plain": [
       "['one', 'two', 'three', 'four', 'five', 'six']"
      ]
     },
     "execution_count": 76,
     "metadata": {},
     "output_type": "execute_result"
    }
   ],
   "source": [
    "mylist[:6]"
   ]
  },
  {
   "cell_type": "code",
   "execution_count": 77,
   "id": "01d95954-49a9-4096-9f9f-b9457fdc8644",
   "metadata": {},
   "outputs": [
    {
     "data": {
      "text/plain": [
       "['one', 'two', 'three', 'four', 'five', 'six', 'seven']"
      ]
     },
     "execution_count": 77,
     "metadata": {},
     "output_type": "execute_result"
    }
   ],
   "source": [
    "mylist[:7]"
   ]
  },
  {
   "cell_type": "code",
   "execution_count": 78,
   "id": "5b4bb40c-6df5-4143-8d9c-d01fb48f2468",
   "metadata": {},
   "outputs": [
    {
     "data": {
      "text/plain": [
       "['one', 'two', 'three', 'four', 'five', 'six', 'seven', 'eight']"
      ]
     },
     "execution_count": 78,
     "metadata": {},
     "output_type": "execute_result"
    }
   ],
   "source": [
    "mylist[:8]"
   ]
  },
  {
   "cell_type": "code",
   "execution_count": 79,
   "id": "8d5d8114-c113-4e75-a25f-55f67db0a0a4",
   "metadata": {},
   "outputs": [
    {
     "data": {
      "text/plain": [
       "['one', 'two', 'three', 'four', 'five', 'six', 'seven', 'eight']"
      ]
     },
     "execution_count": 79,
     "metadata": {},
     "output_type": "execute_result"
    }
   ],
   "source": [
    "mylist[0:]"
   ]
  },
  {
   "cell_type": "code",
   "execution_count": 80,
   "id": "41fb124d-020f-495c-ab51-52bcace44e56",
   "metadata": {},
   "outputs": [
    {
     "data": {
      "text/plain": [
       "['two', 'three', 'four', 'five', 'six', 'seven', 'eight']"
      ]
     },
     "execution_count": 80,
     "metadata": {},
     "output_type": "execute_result"
    }
   ],
   "source": [
    "mylist[1:]"
   ]
  },
  {
   "cell_type": "code",
   "execution_count": 81,
   "id": "8b0e559b-4427-43ce-8bd6-6f21e77e89f3",
   "metadata": {},
   "outputs": [
    {
     "data": {
      "text/plain": [
       "['three', 'four', 'five', 'six', 'seven', 'eight']"
      ]
     },
     "execution_count": 81,
     "metadata": {},
     "output_type": "execute_result"
    }
   ],
   "source": [
    "mylist[2:]"
   ]
  },
  {
   "cell_type": "code",
   "execution_count": 82,
   "id": "1f10e73a-4e3b-4751-827f-cedaf52d7090",
   "metadata": {},
   "outputs": [
    {
     "data": {
      "text/plain": [
       "['four', 'five', 'six', 'seven', 'eight']"
      ]
     },
     "execution_count": 82,
     "metadata": {},
     "output_type": "execute_result"
    }
   ],
   "source": [
    "mylist[3:]"
   ]
  },
  {
   "cell_type": "code",
   "execution_count": 83,
   "id": "e551000d-5aa1-4355-904e-a32d75ab389c",
   "metadata": {},
   "outputs": [
    {
     "data": {
      "text/plain": [
       "'five'"
      ]
     },
     "execution_count": 83,
     "metadata": {},
     "output_type": "execute_result"
    }
   ],
   "source": [
    "mylist[4]"
   ]
  },
  {
   "cell_type": "code",
   "execution_count": 84,
   "id": "d352803a-f484-4ff1-9b4e-a0cd4a8c5ac3",
   "metadata": {},
   "outputs": [
    {
     "data": {
      "text/plain": [
       "['five', 'six', 'seven', 'eight']"
      ]
     },
     "execution_count": 84,
     "metadata": {},
     "output_type": "execute_result"
    }
   ],
   "source": [
    "mylist[4:]"
   ]
  },
  {
   "cell_type": "code",
   "execution_count": 85,
   "id": "1d9ecfec-4805-4257-bb4c-3adffdd135c4",
   "metadata": {},
   "outputs": [
    {
     "data": {
      "text/plain": [
       "['six', 'seven', 'eight']"
      ]
     },
     "execution_count": 85,
     "metadata": {},
     "output_type": "execute_result"
    }
   ],
   "source": [
    "mylist[5:]"
   ]
  },
  {
   "cell_type": "code",
   "execution_count": 86,
   "id": "7bfd5744-0c75-472a-b7b7-a307622710e4",
   "metadata": {},
   "outputs": [
    {
     "data": {
      "text/plain": [
       "['seven', 'eight']"
      ]
     },
     "execution_count": 86,
     "metadata": {},
     "output_type": "execute_result"
    }
   ],
   "source": [
    "mylist[6:]"
   ]
  },
  {
   "cell_type": "code",
   "execution_count": 87,
   "id": "e993d9bc-b206-4f05-b59f-4604407cef4a",
   "metadata": {},
   "outputs": [
    {
     "data": {
      "text/plain": [
       "['eight']"
      ]
     },
     "execution_count": 87,
     "metadata": {},
     "output_type": "execute_result"
    }
   ],
   "source": [
    "mylist[7:]"
   ]
  },
  {
   "cell_type": "code",
   "execution_count": 88,
   "id": "abc5b6ca-5630-4cb0-a717-42b067f8f789",
   "metadata": {},
   "outputs": [
    {
     "data": {
      "text/plain": [
       "[]"
      ]
     },
     "execution_count": 88,
     "metadata": {},
     "output_type": "execute_result"
    }
   ],
   "source": [
    "mylist[8:]"
   ]
  },
  {
   "cell_type": "code",
   "execution_count": 89,
   "id": "cc4d0dd6-c6ec-4421-abbb-06fc66273a9c",
   "metadata": {},
   "outputs": [
    {
     "data": {
      "text/plain": [
       "['one']"
      ]
     },
     "execution_count": 89,
     "metadata": {},
     "output_type": "execute_result"
    }
   ],
   "source": [
    "mylist[0:1:7]"
   ]
  },
  {
   "cell_type": "code",
   "execution_count": 90,
   "id": "13fe9f35-3d39-45f6-ab8b-58b460227891",
   "metadata": {},
   "outputs": [
    {
     "data": {
      "text/plain": [
       "['four']"
      ]
     },
     "execution_count": 90,
     "metadata": {},
     "output_type": "execute_result"
    }
   ],
   "source": [
    "mylist[3:4:5]"
   ]
  },
  {
   "cell_type": "code",
   "execution_count": 91,
   "id": "da54f326-fc34-4d47-853e-6707192523a9",
   "metadata": {},
   "outputs": [
    {
     "data": {
      "text/plain": [
       "[]"
      ]
     },
     "execution_count": 91,
     "metadata": {},
     "output_type": "execute_result"
    }
   ],
   "source": [
    "mylist[3:1:2]"
   ]
  },
  {
   "cell_type": "code",
   "execution_count": 92,
   "id": "b3799c93-adae-4386-858d-67a387df8255",
   "metadata": {},
   "outputs": [
    {
     "data": {
      "text/plain": [
       "[]"
      ]
     },
     "execution_count": 92,
     "metadata": {},
     "output_type": "execute_result"
    }
   ],
   "source": [
    "mylist[3:2:2]"
   ]
  },
  {
   "cell_type": "code",
   "execution_count": 94,
   "id": "89daa0bf-10f6-4fb5-ac35-922214024bd4",
   "metadata": {},
   "outputs": [
    {
     "data": {
      "text/plain": [
       "['four', 'six', 'eight']"
      ]
     },
     "execution_count": 94,
     "metadata": {},
     "output_type": "execute_result"
    }
   ],
   "source": [
    "mylist[3:8:2]"
   ]
  },
  {
   "cell_type": "code",
   "execution_count": 95,
   "id": "19a5775f-ce8e-4830-9e15-6e79cf79a95f",
   "metadata": {},
   "outputs": [
    {
     "data": {
      "text/plain": [
       "['three', 'four', 'five', 'six', 'seven', 'eight']"
      ]
     },
     "execution_count": 95,
     "metadata": {},
     "output_type": "execute_result"
    }
   ],
   "source": [
    "mylist[2:8:1]"
   ]
  },
  {
   "cell_type": "code",
   "execution_count": 96,
   "id": "5bd66e59-b5f2-489f-8795-a13e89a11ad3",
   "metadata": {},
   "outputs": [
    {
     "data": {
      "text/plain": [
       "['three', 'five', 'seven']"
      ]
     },
     "execution_count": 96,
     "metadata": {},
     "output_type": "execute_result"
    }
   ],
   "source": [
    "mylist[2:8:2]"
   ]
  },
  {
   "cell_type": "code",
   "execution_count": 97,
   "id": "f127f83d-256f-4bd1-91b7-351ed1f106f1",
   "metadata": {},
   "outputs": [
    {
     "data": {
      "text/plain": [
       "['three', 'six']"
      ]
     },
     "execution_count": 97,
     "metadata": {},
     "output_type": "execute_result"
    }
   ],
   "source": [
    "mylist[2:8:3]"
   ]
  },
  {
   "cell_type": "code",
   "execution_count": 98,
   "id": "da640eb1-6d5d-44fd-82cc-771969d6e351",
   "metadata": {},
   "outputs": [
    {
     "data": {
      "text/plain": [
       "['two', 'three', 'four', 'five', 'six', 'seven', 'eight']"
      ]
     },
     "execution_count": 98,
     "metadata": {},
     "output_type": "execute_result"
    }
   ],
   "source": [
    "mylist[1:8:1]"
   ]
  },
  {
   "cell_type": "code",
   "execution_count": 99,
   "id": "b7f52590-54a2-4d3f-a164-62ea97d35616",
   "metadata": {},
   "outputs": [
    {
     "data": {
      "text/plain": [
       "['two', 'four', 'six', 'eight']"
      ]
     },
     "execution_count": 99,
     "metadata": {},
     "output_type": "execute_result"
    }
   ],
   "source": [
    "mylist[1:8:2]"
   ]
  },
  {
   "cell_type": "code",
   "execution_count": 100,
   "id": "c4ff722f-ffc0-49a5-8b6a-9222e89aa1e7",
   "metadata": {},
   "outputs": [
    {
     "data": {
      "text/plain": [
       "['two', 'five', 'eight']"
      ]
     },
     "execution_count": 100,
     "metadata": {},
     "output_type": "execute_result"
    }
   ],
   "source": [
    "mylist[1:8:3]"
   ]
  },
  {
   "cell_type": "code",
   "execution_count": 101,
   "id": "b4618ae7-49a9-4d61-be69-8b4112028558",
   "metadata": {},
   "outputs": [
    {
     "data": {
      "text/plain": [
       "['two', 'six']"
      ]
     },
     "execution_count": 101,
     "metadata": {},
     "output_type": "execute_result"
    }
   ],
   "source": [
    "mylist[1:8:4]"
   ]
  },
  {
   "cell_type": "code",
   "execution_count": 102,
   "id": "84674acd-7065-43cf-9ba8-5e8298f84f99",
   "metadata": {},
   "outputs": [
    {
     "data": {
      "text/plain": [
       "['two', 'seven']"
      ]
     },
     "execution_count": 102,
     "metadata": {},
     "output_type": "execute_result"
    }
   ],
   "source": [
    "mylist[1:8:5]"
   ]
  },
  {
   "cell_type": "code",
   "execution_count": 103,
   "id": "496f9898-8768-4312-9e30-538256fa4437",
   "metadata": {},
   "outputs": [
    {
     "data": {
      "text/plain": [
       "['two', 'eight']"
      ]
     },
     "execution_count": 103,
     "metadata": {},
     "output_type": "execute_result"
    }
   ],
   "source": [
    "mylist[1:8:6]"
   ]
  },
  {
   "cell_type": "code",
   "execution_count": 104,
   "id": "d0aa51d3-93f7-45e6-b258-136f4b724baf",
   "metadata": {},
   "outputs": [
    {
     "data": {
      "text/plain": [
       "['two']"
      ]
     },
     "execution_count": 104,
     "metadata": {},
     "output_type": "execute_result"
    }
   ],
   "source": [
    "mylist[1:8:7]"
   ]
  },
  {
   "cell_type": "code",
   "execution_count": 105,
   "id": "37628166-e1a7-4501-94e2-5be804aea17c",
   "metadata": {},
   "outputs": [
    {
     "data": {
      "text/plain": [
       "['four', 'five', 'six', 'seven', 'eight']"
      ]
     },
     "execution_count": 105,
     "metadata": {},
     "output_type": "execute_result"
    }
   ],
   "source": [
    "mylist[3:8:1]"
   ]
  },
  {
   "cell_type": "code",
   "execution_count": 106,
   "id": "f5a9559c-703d-499a-97e7-af5a193b3549",
   "metadata": {},
   "outputs": [
    {
     "data": {
      "text/plain": [
       "['five', 'six']"
      ]
     },
     "execution_count": 106,
     "metadata": {},
     "output_type": "execute_result"
    }
   ],
   "source": [
    "mylist[4:6:1]"
   ]
  },
  {
   "cell_type": "code",
   "execution_count": 107,
   "id": "f039336c-760f-4b0a-a973-97203c713fd0",
   "metadata": {},
   "outputs": [
    {
     "data": {
      "text/plain": [
       "['eight']"
      ]
     },
     "execution_count": 107,
     "metadata": {},
     "output_type": "execute_result"
    }
   ],
   "source": [
    "mylist[-1:8:2]"
   ]
  },
  {
   "cell_type": "code",
   "execution_count": 108,
   "id": "a17222f1-597b-4dcb-982f-f22f7b496132",
   "metadata": {},
   "outputs": [
    {
     "data": {
      "text/plain": [
       "[]"
      ]
     },
     "execution_count": 108,
     "metadata": {},
     "output_type": "execute_result"
    }
   ],
   "source": [
    "mylist[-1:1:2]"
   ]
  },
  {
   "cell_type": "code",
   "execution_count": 109,
   "id": "0ae63207-120b-4c06-8e35-3040fe94b2f5",
   "metadata": {},
   "outputs": [
    {
     "data": {
      "text/plain": [
       "[]"
      ]
     },
     "execution_count": 109,
     "metadata": {},
     "output_type": "execute_result"
    }
   ],
   "source": [
    "mylist[-1:-8:2]"
   ]
  },
  {
   "cell_type": "code",
   "execution_count": 110,
   "id": "39df91c4-7686-446b-a759-683c2046e8fb",
   "metadata": {},
   "outputs": [
    {
     "data": {
      "text/plain": [
       "['eight', 'seven', 'six', 'five', 'four']"
      ]
     },
     "execution_count": 110,
     "metadata": {},
     "output_type": "execute_result"
    }
   ],
   "source": [
    "mylist[-1:-6:-1]"
   ]
  },
  {
   "cell_type": "code",
   "execution_count": 111,
   "id": "1e962010-4f35-4cc3-9205-98289245cb1f",
   "metadata": {},
   "outputs": [
    {
     "data": {
      "text/plain": [
       "['seven', 'five', 'three']"
      ]
     },
     "execution_count": 111,
     "metadata": {},
     "output_type": "execute_result"
    }
   ],
   "source": [
    "mylist[-2:-8:-2]"
   ]
  },
  {
   "cell_type": "code",
   "execution_count": 112,
   "id": "9a3ef6dc-9dd9-47d1-9ccb-81eebd5b88a6",
   "metadata": {},
   "outputs": [
    {
     "data": {
      "text/plain": [
       "['one', 'two', 'three', 'four', 'five', 'six', 'seven', 'eight']"
      ]
     },
     "execution_count": 112,
     "metadata": {},
     "output_type": "execute_result"
    }
   ],
   "source": [
    "mylist[:]"
   ]
  },
  {
   "cell_type": "code",
   "execution_count": 113,
   "id": "91736f21-4b8d-4f7e-99eb-8733399aaccd",
   "metadata": {},
   "outputs": [
    {
     "data": {
      "text/plain": [
       "['one', 'two', 'three', 'four', 'five', 'six', 'seven', 'eight', 'nine']"
      ]
     },
     "execution_count": 113,
     "metadata": {},
     "output_type": "execute_result"
    }
   ],
   "source": [
    "mylist.append('nine')\n",
    "mylist"
   ]
  },
  {
   "cell_type": "code",
   "execution_count": 114,
   "id": "5d7438c8-ed00-4e57-96ce-7130c556af24",
   "metadata": {},
   "outputs": [
    {
     "data": {
      "text/plain": [
       "['one', 'two', 'three', 'four', 'five', 'six', 'seven', 'eight', 'nine', 'ten']"
      ]
     },
     "execution_count": 114,
     "metadata": {},
     "output_type": "execute_result"
    }
   ],
   "source": [
    "mylist.append('ten')\n",
    "mylist"
   ]
  },
  {
   "cell_type": "code",
   "execution_count": 115,
   "id": "4983a060-d785-4610-8c7c-418aa8890dd2",
   "metadata": {},
   "outputs": [
    {
     "data": {
      "text/plain": [
       "['one',\n",
       " 'two',\n",
       " 'three',\n",
       " 'four',\n",
       " 'five',\n",
       " 'six',\n",
       " 'seven',\n",
       " 'eight',\n",
       " 'nine',\n",
       " 'ten',\n",
       " 'eleven']"
      ]
     },
     "execution_count": 115,
     "metadata": {},
     "output_type": "execute_result"
    }
   ],
   "source": [
    "mylist.append('eleven')\n",
    "mylist"
   ]
  },
  {
   "cell_type": "code",
   "execution_count": 119,
   "id": "a6fc5dae-7c98-4c8a-81fa-9785f8bb5343",
   "metadata": {},
   "outputs": [
    {
     "data": {
      "text/plain": [
       "['one',\n",
       " 'two',\n",
       " 'three',\n",
       " 'four',\n",
       " 'five',\n",
       " 'six',\n",
       " 'seven',\n",
       " 'eight',\n",
       " 'nine',\n",
       " 'ten',\n",
       " 'eleven',\n",
       " 'twelve',\n",
       " 'twelve',\n",
       " 'eleven']"
      ]
     },
     "execution_count": 119,
     "metadata": {},
     "output_type": "execute_result"
    }
   ],
   "source": [
    "mylist.insert(10,'eleven')\n",
    "mylist"
   ]
  },
  {
   "cell_type": "code",
   "execution_count": 120,
   "id": "f2ad347a-bfaa-4168-a863-8dfdcda5a742",
   "metadata": {},
   "outputs": [
    {
     "data": {
      "text/plain": [
       "['one',\n",
       " 'ONE',\n",
       " 'two',\n",
       " 'three',\n",
       " 'four',\n",
       " 'five',\n",
       " 'six',\n",
       " 'seven',\n",
       " 'eight',\n",
       " 'nine',\n",
       " 'ten',\n",
       " 'eleven',\n",
       " 'twelve',\n",
       " 'twelve',\n",
       " 'eleven']"
      ]
     },
     "execution_count": 120,
     "metadata": {},
     "output_type": "execute_result"
    }
   ],
   "source": [
    "mylist.insert(1,'ONE')\n",
    "mylist"
   ]
  },
  {
   "cell_type": "code",
   "execution_count": 121,
   "id": "69942db6-c210-409f-8364-5c63b16f92a7",
   "metadata": {},
   "outputs": [
    {
     "data": {
      "text/plain": [
       "['one',\n",
       " 'two',\n",
       " 'three',\n",
       " 'four',\n",
       " 'five',\n",
       " 'six',\n",
       " 'seven',\n",
       " 'eight',\n",
       " 'nine',\n",
       " 'ten',\n",
       " 'eleven',\n",
       " 'twelve',\n",
       " 'twelve',\n",
       " 'eleven']"
      ]
     },
     "execution_count": 121,
     "metadata": {},
     "output_type": "execute_result"
    }
   ],
   "source": [
    "mylist.remove('ONE')\n",
    "mylist"
   ]
  },
  {
   "cell_type": "code",
   "execution_count": 123,
   "id": "d7ac89ac-b263-4202-801d-8239ae7c00da",
   "metadata": {},
   "outputs": [
    {
     "data": {
      "text/plain": [
       "['one',\n",
       " 'two',\n",
       " 'three',\n",
       " 'four',\n",
       " 'five',\n",
       " 'six',\n",
       " 'seven',\n",
       " 'eight',\n",
       " 'nine',\n",
       " 'ten',\n",
       " 'twelve',\n",
       " 'twelve',\n",
       " 'eleven']"
      ]
     },
     "execution_count": 123,
     "metadata": {},
     "output_type": "execute_result"
    }
   ],
   "source": [
    "mylist.remove('eleven')\n",
    "mylist"
   ]
  },
  {
   "cell_type": "code",
   "execution_count": 124,
   "id": "d2db3826-e04e-44e2-8938-cf74e7136ddf",
   "metadata": {},
   "outputs": [
    {
     "data": {
      "text/plain": [
       "['one',\n",
       " 'two',\n",
       " 'three',\n",
       " 'four',\n",
       " 'five',\n",
       " 'six',\n",
       " 'seven',\n",
       " 'eight',\n",
       " 'nine',\n",
       " 'ten',\n",
       " 'twelve',\n",
       " 'twelve']"
      ]
     },
     "execution_count": 124,
     "metadata": {},
     "output_type": "execute_result"
    }
   ],
   "source": [
    "mylist.remove('eleven')\n",
    "mylist"
   ]
  },
  {
   "cell_type": "code",
   "execution_count": 125,
   "id": "15f6bf23-927f-4c01-8537-94bf9cf2909d",
   "metadata": {},
   "outputs": [
    {
     "data": {
      "text/plain": [
       "['one',\n",
       " 'two',\n",
       " 'three',\n",
       " 'four',\n",
       " 'five',\n",
       " 'six',\n",
       " 'seven',\n",
       " 'eight',\n",
       " 'nine',\n",
       " 'ten',\n",
       " 'twelve']"
      ]
     },
     "execution_count": 125,
     "metadata": {},
     "output_type": "execute_result"
    }
   ],
   "source": [
    "mylist.remove('twelve')\n",
    "mylist"
   ]
  },
  {
   "cell_type": "code",
   "execution_count": 126,
   "id": "f98286bc-548f-4696-872c-686e98e40f8e",
   "metadata": {},
   "outputs": [
    {
     "data": {
      "text/plain": [
       "['one', 'two', 'three', 'four', 'five', 'six', 'seven', 'eight', 'nine', 'ten']"
      ]
     },
     "execution_count": 126,
     "metadata": {},
     "output_type": "execute_result"
    }
   ],
   "source": [
    "mylist.remove('twelve')\n",
    "mylist"
   ]
  },
  {
   "cell_type": "code",
   "execution_count": 127,
   "id": "c8104404-74f4-4595-a1f2-b33f2194b43d",
   "metadata": {},
   "outputs": [
    {
     "data": {
      "text/plain": [
       "['one', 'two', 'three', 'four', 'five', 'six', 'seven', 'eight', 'nine']"
      ]
     },
     "execution_count": 127,
     "metadata": {},
     "output_type": "execute_result"
    }
   ],
   "source": [
    "mylist.pop()\n",
    "mylist"
   ]
  },
  {
   "cell_type": "code",
   "execution_count": 128,
   "id": "167accf9-cc36-4d6b-8ce4-546e89c8dd90",
   "metadata": {},
   "outputs": [
    {
     "data": {
      "text/plain": [
       "['one', 'two', 'three', 'four', 'five', 'six', 'eight', 'nine']"
      ]
     },
     "execution_count": 128,
     "metadata": {},
     "output_type": "execute_result"
    }
   ],
   "source": [
    "mylist.pop(6)\n",
    "mylist"
   ]
  },
  {
   "cell_type": "code",
   "execution_count": 129,
   "id": "91a83a21-58b7-4d7f-a2cd-97a4e8f19446",
   "metadata": {},
   "outputs": [
    {
     "data": {
      "text/plain": [
       "['one', 'two', 'three', 'four', 'five', 'six', 'eight']"
      ]
     },
     "execution_count": 129,
     "metadata": {},
     "output_type": "execute_result"
    }
   ],
   "source": [
    "del mylist[7]\n",
    "mylist"
   ]
  },
  {
   "cell_type": "code",
   "execution_count": null,
   "id": "4b85b141-aab3-47e0-8fa2-947d7ac2defc",
   "metadata": {},
   "outputs": [],
   "source": [
    "#change value of the string"
   ]
  },
  {
   "cell_type": "code",
   "execution_count": 131,
   "id": "6d9dfb91-782f-45bd-9faa-1f32ed1e066f",
   "metadata": {},
   "outputs": [
    {
     "data": {
      "text/plain": [
       "[1, 2, 3, 'four', 'five', 'six', 'eight']"
      ]
     },
     "execution_count": 131,
     "metadata": {},
     "output_type": "execute_result"
    }
   ],
   "source": [
    "mylist[0] = 1\n",
    "mylist[1] = 2\n",
    "mylist[2] = 3\n",
    "mylist"
   ]
  },
  {
   "cell_type": "code",
   "execution_count": 132,
   "id": "33401b3f-7698-4f62-94ef-427076934862",
   "metadata": {},
   "outputs": [
    {
     "data": {
      "text/plain": [
       "[1, 2, 3, 4, 5, 6, 'eight']"
      ]
     },
     "execution_count": 132,
     "metadata": {},
     "output_type": "execute_result"
    }
   ],
   "source": [
    "mylist[3] = 4\n",
    "mylist[4] = 5\n",
    "mylist[5] = 6\n",
    "mylist"
   ]
  },
  {
   "cell_type": "code",
   "execution_count": 133,
   "id": "f1e8501a-e692-4bc8-aa30-1ca4bc22e753",
   "metadata": {},
   "outputs": [
    {
     "data": {
      "text/plain": [
       "[1, 2, 3, 4, 5, 6, 'eight']"
      ]
     },
     "execution_count": 133,
     "metadata": {},
     "output_type": "execute_result"
    }
   ],
   "source": [
    "mylist"
   ]
  },
  {
   "cell_type": "code",
   "execution_count": 134,
   "id": "835fc221-1631-49a7-9ef0-3a6012eeaf48",
   "metadata": {},
   "outputs": [
    {
     "data": {
      "text/plain": [
       "[1, 2, 3, 4, 5, 6, 7]"
      ]
     },
     "execution_count": 134,
     "metadata": {},
     "output_type": "execute_result"
    }
   ],
   "source": [
    "mylist[6] = 7\n",
    "mylist"
   ]
  },
  {
   "cell_type": "code",
   "execution_count": 135,
   "id": "048bc85e-0552-431b-be85-704129bbf7ee",
   "metadata": {},
   "outputs": [
    {
     "data": {
      "text/plain": [
       "['one', 'two', 'three', 'four', 'five', 'six', 'seven']"
      ]
     },
     "execution_count": 135,
     "metadata": {},
     "output_type": "execute_result"
    }
   ],
   "source": [
    "mylist[0] = 'one'\n",
    "mylist[1] = 'two'\n",
    "mylist[2] = 'three'\n",
    "mylist[3] = 'four'\n",
    "mylist[4] = 'five'\n",
    "mylist[5] = 'six'\n",
    "mylist[6] = 'seven'\n",
    "mylist"
   ]
  },
  {
   "cell_type": "code",
   "execution_count": 138,
   "id": "01fac67c-0c34-4473-9d2c-6d7f1e3b6f7d",
   "metadata": {},
   "outputs": [
    {
     "data": {
      "text/plain": [
       "[]"
      ]
     },
     "execution_count": 138,
     "metadata": {},
     "output_type": "execute_result"
    }
   ],
   "source": [
    "mylist"
   ]
  },
  {
   "cell_type": "code",
   "execution_count": 140,
   "id": "1f521648-634f-4997-a577-ae99b948b5cc",
   "metadata": {},
   "outputs": [
    {
     "data": {
      "text/plain": [
       "[1, 2, 3, 4, 5, 6, 7, 8, 9]"
      ]
     },
     "execution_count": 140,
     "metadata": {},
     "output_type": "execute_result"
    }
   ],
   "source": [
    "mylist=[1,2,3,4,5,6,7,8,9]\n",
    "mylist"
   ]
  },
  {
   "cell_type": "code",
   "execution_count": 141,
   "id": "f5e4df66-9bde-4620-8ff5-5b3711f01c47",
   "metadata": {},
   "outputs": [
    {
     "data": {
      "text/plain": [
       "['one', 'two', 'three', 'four', 'five', 'six', 'seven', 'eight', 'nine']"
      ]
     },
     "execution_count": 141,
     "metadata": {},
     "output_type": "execute_result"
    }
   ],
   "source": [
    "mylist[0] = 'one'\n",
    "mylist[1] = 'two'\n",
    "mylist[2] = 'three'\n",
    "mylist[3] = 'four'\n",
    "mylist[4]= 'five'\n",
    "mylist[5] = 'six'\n",
    "mylist[6] = 'seven'\n",
    "mylist[7] = 'eight'\n",
    "mylist[8] = 'nine'\n",
    "mylist"
   ]
  },
  {
   "cell_type": "code",
   "execution_count": 143,
   "id": "dd75d53e-f682-4f70-b12e-f6d3e6cceffe",
   "metadata": {},
   "outputs": [
    {
     "data": {
      "text/plain": [
       "['one', 'two', 'three', 'four', 'five', 'six', 'seven', 'eight', 'nine']"
      ]
     },
     "execution_count": 143,
     "metadata": {},
     "output_type": "execute_result"
    }
   ],
   "source": [
    "mylist1= mylist\n",
    "mylist1"
   ]
  },
  {
   "cell_type": "code",
   "execution_count": 144,
   "id": "bb1bf63e-6412-4dcb-811c-670a22fd91e4",
   "metadata": {},
   "outputs": [
    {
     "data": {
      "text/plain": [
       "(2336907359936, 2336907359936)"
      ]
     },
     "execution_count": 144,
     "metadata": {},
     "output_type": "execute_result"
    }
   ],
   "source": [
    "id(mylist), id(mylist1)"
   ]
  },
  {
   "cell_type": "code",
   "execution_count": 145,
   "id": "392733fc-0109-4563-940e-a9d6cd183426",
   "metadata": {},
   "outputs": [
    {
     "data": {
      "text/plain": [
       "2336907359936"
      ]
     },
     "execution_count": 145,
     "metadata": {},
     "output_type": "execute_result"
    }
   ],
   "source": [
    "id(mylist)"
   ]
  },
  {
   "cell_type": "code",
   "execution_count": 146,
   "id": "2e2ac92d-3959-4b19-a97c-0b0672cbce73",
   "metadata": {},
   "outputs": [
    {
     "data": {
      "text/plain": [
       "2336907359936"
      ]
     },
     "execution_count": 146,
     "metadata": {},
     "output_type": "execute_result"
    }
   ],
   "source": [
    "id(mylist1)"
   ]
  },
  {
   "cell_type": "code",
   "execution_count": 148,
   "id": "03e6899b-59d2-4f54-8d54-08c704afd52f",
   "metadata": {},
   "outputs": [
    {
     "data": {
      "text/plain": [
       "['one', 'two', 'three', 'four', 'five', 'six', 'seven', 'eight', 'nine']"
      ]
     },
     "execution_count": 148,
     "metadata": {},
     "output_type": "execute_result"
    }
   ],
   "source": [
    "mylist2 = mylist.copy()\n",
    "mylist2"
   ]
  },
  {
   "cell_type": "code",
   "execution_count": 149,
   "id": "10523a40-2e27-43e5-b039-ce34ade704be",
   "metadata": {},
   "outputs": [
    {
     "data": {
      "text/plain": [
       "2336906740736"
      ]
     },
     "execution_count": 149,
     "metadata": {},
     "output_type": "execute_result"
    }
   ],
   "source": [
    "id(mylist2)"
   ]
  },
  {
   "cell_type": "code",
   "execution_count": 152,
   "id": "043bdf21-5a83-49f8-90bf-5cf92d5e3c54",
   "metadata": {},
   "outputs": [
    {
     "data": {
      "text/plain": [
       "[1, 'two', 'three', 'four', 'five', 'six', 'seven', 'eight', 'nine']"
      ]
     },
     "execution_count": 152,
     "metadata": {},
     "output_type": "execute_result"
    }
   ],
   "source": [
    "mylist1[0]= 1\n",
    "mylist1"
   ]
  },
  {
   "cell_type": "code",
   "execution_count": 153,
   "id": "f999cccd-781b-4065-bd9d-49bf23fcd3b1",
   "metadata": {},
   "outputs": [
    {
     "data": {
      "text/plain": [
       "['one', 'two', 'three', 'four', 'five', 'six', 'seven', 'eight', 'nine']"
      ]
     },
     "execution_count": 153,
     "metadata": {},
     "output_type": "execute_result"
    }
   ],
   "source": [
    "mylist2"
   ]
  },
  {
   "cell_type": "code",
   "execution_count": null,
   "id": "0907f987-2305-4648-baed-6f6d9079fff6",
   "metadata": {},
   "outputs": [],
   "source": [
    "#list membership"
   ]
  },
  {
   "cell_type": "code",
   "execution_count": 5,
   "id": "119850b3-8453-4ed6-9f59-7a59073b09cd",
   "metadata": {},
   "outputs": [
    {
     "data": {
      "text/plain": [
       "[100, 200, 300, 400]"
      ]
     },
     "execution_count": 5,
     "metadata": {},
     "output_type": "execute_result"
    }
   ],
   "source": [
    "mylist2 =[100,200,300,400]\n",
    "mylist2"
   ]
  },
  {
   "cell_type": "code",
   "execution_count": 7,
   "id": "5b3bda76-1604-4c5b-b34f-53959f7e89e4",
   "metadata": {},
   "outputs": [
    {
     "data": {
      "text/plain": [
       "True"
      ]
     },
     "execution_count": 7,
     "metadata": {},
     "output_type": "execute_result"
    }
   ],
   "source": [
    "100 in mylist2"
   ]
  },
  {
   "cell_type": "code",
   "execution_count": 8,
   "id": "9e1028d6-00ef-4c5a-90e9-25c0c495c557",
   "metadata": {},
   "outputs": [
    {
     "data": {
      "text/plain": [
       "False"
      ]
     },
     "execution_count": 8,
     "metadata": {},
     "output_type": "execute_result"
    }
   ],
   "source": [
    "150 in mylist2"
   ]
  },
  {
   "cell_type": "code",
   "execution_count": 9,
   "id": "daf3d972-6604-4366-b9ff-7c7b2b7ea9fb",
   "metadata": {},
   "outputs": [
    {
     "name": "stdout",
     "output_type": "stream",
     "text": [
      "(0, 100)\n",
      "(1, 200)\n",
      "(2, 300)\n",
      "(3, 400)\n"
     ]
    }
   ],
   "source": [
    "for i in enumerate(mylist2):\n",
    "    print(i)"
   ]
  },
  {
   "cell_type": "code",
   "execution_count": 10,
   "id": "b3a473ed-86a9-4b43-89c7-ab2981c9bfc5",
   "metadata": {},
   "outputs": [
    {
     "data": {
      "text/plain": [
       "[10, 20, 30, 40, 50]"
      ]
     },
     "execution_count": 10,
     "metadata": {},
     "output_type": "execute_result"
    }
   ],
   "source": [
    "l=[10,20,30,40,50]\n",
    "l"
   ]
  },
  {
   "cell_type": "code",
   "execution_count": 11,
   "id": "54d08c17-019d-4f91-bc1b-c90e5b3c599f",
   "metadata": {},
   "outputs": [
    {
     "data": {
      "text/plain": [
       "[100, 10.2, 'nit']"
      ]
     },
     "execution_count": 11,
     "metadata": {},
     "output_type": "execute_result"
    }
   ],
   "source": [
    "l2=[100,10.2,'nit']\n",
    "l2"
   ]
  },
  {
   "cell_type": "code",
   "execution_count": 15,
   "id": "7b08562f-ed23-40e3-a260-b31b1f358af4",
   "metadata": {},
   "outputs": [
    {
     "data": {
      "text/plain": [
       "[10, 20, 30, 40, 50]"
      ]
     },
     "execution_count": 15,
     "metadata": {},
     "output_type": "execute_result"
    }
   ],
   "source": [
    "l.sort()\n",
    "l"
   ]
  },
  {
   "cell_type": "code",
   "execution_count": 17,
   "id": "a9e0056c-a8d0-48f6-a029-959a7fa18ac3",
   "metadata": {},
   "outputs": [
    {
     "data": {
      "text/plain": [
       "[50, 40, 30, 20, 10]"
      ]
     },
     "execution_count": 17,
     "metadata": {},
     "output_type": "execute_result"
    }
   ],
   "source": [
    "l.sort(reverse=True)    #\n",
    "l"
   ]
  },
  {
   "cell_type": "code",
   "execution_count": 18,
   "id": "b78ffd1c-457d-4df5-b216-8df106b00c5e",
   "metadata": {},
   "outputs": [
    {
     "data": {
      "text/plain": [
       "[10, 20, 30, 40, 50]"
      ]
     },
     "execution_count": 18,
     "metadata": {},
     "output_type": "execute_result"
    }
   ],
   "source": [
    "l.sort(reverse=False)     #parameter tunning===default by system\n",
    "l"
   ]
  },
  {
   "cell_type": "code",
   "execution_count": 19,
   "id": "0b3c3421-9412-4c42-af96-93546bcc3223",
   "metadata": {},
   "outputs": [
    {
     "data": {
      "text/plain": [
       "[1, 2.4, 'nit']"
      ]
     },
     "execution_count": 19,
     "metadata": {},
     "output_type": "execute_result"
    }
   ],
   "source": [
    "l3=[1,2.4, 'nit']\n",
    "l3"
   ]
  },
  {
   "cell_type": "code",
   "execution_count": 25,
   "id": "81cb0ca0-0ff6-4c68-be2b-3e64d774a4d7",
   "metadata": {},
   "outputs": [
    {
     "ename": "TypeError",
     "evalue": "'<' not supported between instances of 'str' and 'float'",
     "output_type": "error",
     "traceback": [
      "\u001b[1;31m---------------------------------------------------------------------------\u001b[0m",
      "\u001b[1;31mTypeError\u001b[0m                                 Traceback (most recent call last)",
      "Cell \u001b[1;32mIn[25], line 1\u001b[0m\n\u001b[1;32m----> 1\u001b[0m l3\u001b[38;5;241m.\u001b[39msort()\n\u001b[0;32m      2\u001b[0m l3\n",
      "\u001b[1;31mTypeError\u001b[0m: '<' not supported between instances of 'str' and 'float'"
     ]
    }
   ],
   "source": [
    "l3.sort()   #in mixed datatype the sort() is not work\n",
    "l3"
   ]
  },
  {
   "cell_type": "code",
   "execution_count": 21,
   "id": "3be4caa5-d817-4c49-b25f-b5c069d80011",
   "metadata": {},
   "outputs": [
    {
     "data": {
      "text/plain": [
       "['a', 'v', 'b', 'h']"
      ]
     },
     "execution_count": 21,
     "metadata": {},
     "output_type": "execute_result"
    }
   ],
   "source": [
    "l4=['a','v','b','h']\n",
    "l4"
   ]
  },
  {
   "cell_type": "code",
   "execution_count": 24,
   "id": "70e6011c-5f7f-43b8-9bf7-26fa50aac29a",
   "metadata": {},
   "outputs": [
    {
     "data": {
      "text/plain": [
       "['a', 'b', 'h', 'v']"
      ]
     },
     "execution_count": 24,
     "metadata": {},
     "output_type": "execute_result"
    }
   ],
   "source": [
    "l4.sort()\n",
    "l4"
   ]
  },
  {
   "cell_type": "code",
   "execution_count": 27,
   "id": "085a86d2-d74d-4427-9074-f768013daed1",
   "metadata": {},
   "outputs": [
    {
     "data": {
      "text/plain": [
       "['v', 'h', 'b', 'a']"
      ]
     },
     "execution_count": 27,
     "metadata": {},
     "output_type": "execute_result"
    }
   ],
   "source": [
    "l4.reverse()\n",
    "l4"
   ]
  },
  {
   "cell_type": "code",
   "execution_count": null,
   "id": "bfd344ff-1f9e-4860-8207-9bffbbd4b45c",
   "metadata": {},
   "outputs": [],
   "source": [
    "#####all and any"
   ]
  },
  {
   "cell_type": "code",
   "execution_count": 28,
   "id": "d770932e-fe11-47d4-b65f-3c401f9a4c6a",
   "metadata": {},
   "outputs": [
    {
     "data": {
      "text/plain": [
       "[10, 20, 30, 40, 50]"
      ]
     },
     "execution_count": 28,
     "metadata": {},
     "output_type": "execute_result"
    }
   ],
   "source": [
    "l"
   ]
  },
  {
   "cell_type": "code",
   "execution_count": 29,
   "id": "809f227e-8a54-405a-983d-f6a52785ca5a",
   "metadata": {},
   "outputs": [
    {
     "data": {
      "text/plain": [
       "True"
      ]
     },
     "execution_count": 29,
     "metadata": {},
     "output_type": "execute_result"
    }
   ],
   "source": [
    "all(l)   #if list has 0(false ) all() true"
   ]
  },
  {
   "cell_type": "code",
   "execution_count": 30,
   "id": "d04361f8-4814-435b-8d60-99219edf2db2",
   "metadata": {},
   "outputs": [
    {
     "data": {
      "text/plain": [
       "True"
      ]
     },
     "execution_count": 30,
     "metadata": {},
     "output_type": "execute_result"
    }
   ],
   "source": [
    "any(l)   #bydefauld gives yo true"
   ]
  },
  {
   "cell_type": "code",
   "execution_count": 32,
   "id": "08155871-b076-4559-b173-1355dfa4d09e",
   "metadata": {},
   "outputs": [
    {
     "data": {
      "text/plain": [
       "[]"
      ]
     },
     "execution_count": 32,
     "metadata": {},
     "output_type": "execute_result"
    }
   ],
   "source": [
    "l6=[]\n",
    "l6"
   ]
  },
  {
   "cell_type": "code",
   "execution_count": 33,
   "id": "efd4dee1-c81a-4989-a35f-06909ae66238",
   "metadata": {},
   "outputs": [
    {
     "data": {
      "text/plain": [
       "True"
      ]
     },
     "execution_count": 33,
     "metadata": {},
     "output_type": "execute_result"
    }
   ],
   "source": [
    "all(l6)"
   ]
  },
  {
   "cell_type": "code",
   "execution_count": 35,
   "id": "8840dc72-7358-4f62-893f-907fefd72a3c",
   "metadata": {},
   "outputs": [
    {
     "data": {
      "text/plain": [
       "False"
      ]
     },
     "execution_count": 35,
     "metadata": {},
     "output_type": "execute_result"
    }
   ],
   "source": [
    "l.append(0)\n",
    "all(l)"
   ]
  },
  {
   "cell_type": "code",
   "execution_count": null,
   "id": "c7b7887c-a5b7-4783-af81-121889812c47",
   "metadata": {},
   "outputs": [],
   "source": []
  }
 ],
 "metadata": {
  "kernelspec": {
   "display_name": "Python 3 (ipykernel)",
   "language": "python",
   "name": "python3"
  },
  "language_info": {
   "codemirror_mode": {
    "name": "ipython",
    "version": 3
   },
   "file_extension": ".py",
   "mimetype": "text/x-python",
   "name": "python",
   "nbconvert_exporter": "python",
   "pygments_lexer": "ipython3",
   "version": "3.13.5"
  },
  "widgets": {
   "application/vnd.jupyter.widget-state+json": {
    "state": {},
    "version_major": 2,
    "version_minor": 0
   }
  }
 },
 "nbformat": 4,
 "nbformat_minor": 5
}
