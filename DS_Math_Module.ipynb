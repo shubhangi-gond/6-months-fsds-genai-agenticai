{
 "cells": [
  {
   "cell_type": "markdown",
   "id": "03c80259-ac13-4a9e-a7b4-2425891524ef",
   "metadata": {},
   "source": [
    "# python module"
   ]
  },
  {
   "cell_type": "markdown",
   "id": "926eaad6-bce4-4092-bdeb-ee0bbeb6efe9",
   "metadata": {},
   "source": [
    "#### Modules"
   ]
  },
  {
   "cell_type": "markdown",
   "id": "cd099e15-72c5-4a41-a77e-fe44d6f2e072",
   "metadata": {},
   "source": [
    "###### Import the math module"
   ]
  },
  {
   "cell_type": "code",
   "execution_count": 1,
   "id": "3773b46e-6187-4abe-ae83-ef548061f5c2",
   "metadata": {},
   "outputs": [],
   "source": [
    "import math"
   ]
  },
  {
   "cell_type": "markdown",
   "id": "54216c38-f873-432e-b41b-cc2f862b5e96",
   "metadata": {},
   "source": [
    "###### basic concepts"
   ]
  },
  {
   "cell_type": "code",
   "execution_count": 2,
   "id": "d93dc04c-130f-4751-9f38-fa11169199ca",
   "metadata": {},
   "outputs": [
    {
     "data": {
      "text/plain": [
       "3.141592653589793"
      ]
     },
     "execution_count": 2,
     "metadata": {},
     "output_type": "execute_result"
    }
   ],
   "source": [
    "math.pi"
   ]
  },
  {
   "cell_type": "code",
   "execution_count": 3,
   "id": "41b7a657-b22a-454d-943e-ac38150a449d",
   "metadata": {},
   "outputs": [
    {
     "data": {
      "text/plain": [
       "2.718281828459045"
      ]
     },
     "execution_count": 3,
     "metadata": {},
     "output_type": "execute_result"
    }
   ],
   "source": [
    "math.e"
   ]
  },
  {
   "cell_type": "code",
   "execution_count": 4,
   "id": "c53d44b0-5af1-4d0b-b80e-9a2e4d984600",
   "metadata": {},
   "outputs": [
    {
     "data": {
      "text/plain": [
       "5.0"
      ]
     },
     "execution_count": 4,
     "metadata": {},
     "output_type": "execute_result"
    }
   ],
   "source": [
    "math.sqrt(25) #return the square root of x"
   ]
  },
  {
   "cell_type": "code",
   "execution_count": 5,
   "id": "f233319a-d54f-437b-ab0a-08ee97f0c9cb",
   "metadata": {},
   "outputs": [
    {
     "data": {
      "text/plain": [
       "9.0"
      ]
     },
     "execution_count": 5,
     "metadata": {},
     "output_type": "execute_result"
    }
   ],
   "source": [
    "math.pow(3,2) #return 3 to the power of 2"
   ]
  },
  {
   "cell_type": "code",
   "execution_count": 7,
   "id": "e160ae17-ba88-441d-8238-b63384b1470e",
   "metadata": {},
   "outputs": [
    {
     "name": "stdout",
     "output_type": "stream",
     "text": [
      "2\n"
     ]
    }
   ],
   "source": [
    "print(math.floor(2.3)) "
   ]
  },
  {
   "cell_type": "code",
   "execution_count": 8,
   "id": "a54031b1-135e-441b-8303-cde993d42648",
   "metadata": {},
   "outputs": [
    {
     "name": "stdout",
     "output_type": "stream",
     "text": [
      "6\n"
     ]
    }
   ],
   "source": [
    "print(math.ceil(5.6))"
   ]
  },
  {
   "cell_type": "code",
   "execution_count": 9,
   "id": "50c89121-3045-4419-80e0-947cd8115362",
   "metadata": {},
   "outputs": [
    {
     "data": {
      "text/plain": [
       "5.6"
      ]
     },
     "execution_count": 9,
     "metadata": {},
     "output_type": "execute_result"
    }
   ],
   "source": [
    "math.fabs(5.6)"
   ]
  },
  {
   "cell_type": "code",
   "execution_count": 10,
   "id": "7a955cb6-0c72-4e3e-8102-106d94ed7231",
   "metadata": {},
   "outputs": [
    {
     "data": {
      "text/plain": [
       "720"
      ]
     },
     "execution_count": 10,
     "metadata": {},
     "output_type": "execute_result"
    }
   ],
   "source": [
    "math.factorial(6)"
   ]
  },
  {
   "cell_type": "code",
   "execution_count": 13,
   "id": "b5687ede-a18c-43be-b918-612335c07906",
   "metadata": {},
   "outputs": [
    {
     "data": {
      "text/plain": [
       "30"
      ]
     },
     "execution_count": 13,
     "metadata": {},
     "output_type": "execute_result"
    }
   ],
   "source": [
    "math.gcd(30,60)"
   ]
  },
  {
   "cell_type": "markdown",
   "id": "af0725b5-58ed-4bfc-bd82-928275b2d0b7",
   "metadata": {},
   "source": [
    "#### trigonometric fun"
   ]
  },
  {
   "cell_type": "code",
   "execution_count": 14,
   "id": "87c3cacf-9c0d-498b-a350-50ef3455ff21",
   "metadata": {},
   "outputs": [],
   "source": [
    "import math"
   ]
  },
  {
   "cell_type": "code",
   "execution_count": 15,
   "id": "5703c594-6d12-441a-b9ea-ed086d6d754d",
   "metadata": {},
   "outputs": [
    {
     "data": {
      "text/plain": [
       "-0.5063656411097588"
      ]
     },
     "execution_count": 15,
     "metadata": {},
     "output_type": "execute_result"
    }
   ],
   "source": [
    "math.sin(100)"
   ]
  },
  {
   "cell_type": "code",
   "execution_count": 16,
   "id": "e4510822-0457-4aa0-8174-cbc7c34c49aa",
   "metadata": {},
   "outputs": [
    {
     "data": {
      "text/plain": [
       "0.40808206181339196"
      ]
     },
     "execution_count": 16,
     "metadata": {},
     "output_type": "execute_result"
    }
   ],
   "source": [
    "math.cos(20)"
   ]
  },
  {
   "cell_type": "code",
   "execution_count": 17,
   "id": "c2097329-ee7e-4f02-b14c-954485aef1aa",
   "metadata": {},
   "outputs": [
    {
     "data": {
      "text/plain": [
       "-6.405331196646276"
      ]
     },
     "execution_count": 17,
     "metadata": {},
     "output_type": "execute_result"
    }
   ],
   "source": [
    "math.tan(30)"
   ]
  },
  {
   "cell_type": "code",
   "execution_count": 18,
   "id": "cd3aa5aa-8ca4-4bf3-afba-81fb00af0692",
   "metadata": {},
   "outputs": [],
   "source": [
    "import math as m"
   ]
  },
  {
   "cell_type": "code",
   "execution_count": 19,
   "id": "03dbe151-016b-43d7-b8fe-2c79b8bb9756",
   "metadata": {},
   "outputs": [
    {
     "data": {
      "text/plain": [
       "10.0"
      ]
     },
     "execution_count": 19,
     "metadata": {},
     "output_type": "execute_result"
    }
   ],
   "source": [
    "m.sqrt(100)"
   ]
  },
  {
   "cell_type": "code",
   "execution_count": 20,
   "id": "40f7684c-1921-47d5-9f26-b00afead935d",
   "metadata": {},
   "outputs": [
    {
     "data": {
      "text/plain": [
       "729.0"
      ]
     },
     "execution_count": 20,
     "metadata": {},
     "output_type": "execute_result"
    }
   ],
   "source": [
    "m.pow(3,6)"
   ]
  },
  {
   "cell_type": "code",
   "execution_count": 22,
   "id": "c85764c7-e393-4a4b-8656-acc1f17049a9",
   "metadata": {},
   "outputs": [
    {
     "name": "stdout",
     "output_type": "stream",
     "text": [
      "81.0\n",
      "8.0\n"
     ]
    }
   ],
   "source": [
    "from math import sqrt,pow\n",
    "print(pow(3,4))\n",
    "print(sqrt(64))"
   ]
  },
  {
   "cell_type": "code",
   "execution_count": 24,
   "id": "a5cdbfeb-79f4-4db7-b910-1658be76b666",
   "metadata": {},
   "outputs": [
    {
     "data": {
      "text/plain": [
       "20"
      ]
     },
     "execution_count": 24,
     "metadata": {},
     "output_type": "execute_result"
    }
   ],
   "source": [
    "from math import *\n",
    "floor(20.67)"
   ]
  },
  {
   "cell_type": "code",
   "execution_count": null,
   "id": "ed3e83e4-9f3e-4254-9c89-ccd6bced0bff",
   "metadata": {},
   "outputs": [],
   "source": []
  }
 ],
 "metadata": {
  "kernelspec": {
   "display_name": "Python 3 (ipykernel)",
   "language": "python",
   "name": "python3"
  },
  "language_info": {
   "codemirror_mode": {
    "name": "ipython",
    "version": 3
   },
   "file_extension": ".py",
   "mimetype": "text/x-python",
   "name": "python",
   "nbconvert_exporter": "python",
   "pygments_lexer": "ipython3",
   "version": "3.13.5"
  },
  "widgets": {
   "application/vnd.jupyter.widget-state+json": {
    "state": {},
    "version_major": 2,
    "version_minor": 0
   }
  }
 },
 "nbformat": 4,
 "nbformat_minor": 5
}
